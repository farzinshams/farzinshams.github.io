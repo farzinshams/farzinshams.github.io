{
 "cells": [
  {
   "cell_type": "code",
   "execution_count": 1,
   "metadata": {},
   "outputs": [],
   "source": [
    "import pandas as pd\n",
    "import numpy as np\n",
    "import gc\n",
    "import matplotlib.pyplot as plt\n",
    "from datetime import datetime\n",
    "from tqdm import tqdm, tqdm_pandas\n",
    "import gc\n",
    "pd.set_option('display.max_rows', 1000)"
   ]
  },
  {
   "cell_type": "code",
   "execution_count": 2,
   "metadata": {},
   "outputs": [],
   "source": [
    "import seaborn as sns\n",
    "from category_encoders.target_encoder import TargetEncoder\n",
    "from sklearn.preprocessing import StandardScaler\n",
    "import warnings\n",
    "warnings.filterwarnings('ignore')"
   ]
  },
  {
   "cell_type": "markdown",
   "metadata": {},
   "source": [
    "# Raízen Data Science Challenge: NYC metro database\n",
    "\n",
    "Author: Farzin Shams  \n",
    "Email: farzinshams95@gmail.com\n",
    "\n",
    "Our data consists of NYC subways' turnstiles registry with multiple samples per day. Variable's descriptions are at:\n",
    "\n",
    "http://web.mta.info/developers/resources/nyct/turnstile/ts_Field_Description.txt"
   ]
  },
  {
   "cell_type": "code",
   "execution_count": 3,
   "metadata": {},
   "outputs": [
    {
     "data": {
      "text/html": [
       "<div>\n",
       "<style scoped>\n",
       "    .dataframe tbody tr th:only-of-type {\n",
       "        vertical-align: middle;\n",
       "    }\n",
       "\n",
       "    .dataframe tbody tr th {\n",
       "        vertical-align: top;\n",
       "    }\n",
       "\n",
       "    .dataframe thead th {\n",
       "        text-align: right;\n",
       "    }\n",
       "</style>\n",
       "<table border=\"1\" class=\"dataframe\">\n",
       "  <thead>\n",
       "    <tr style=\"text-align: right;\">\n",
       "      <th></th>\n",
       "      <th>time</th>\n",
       "      <th>date</th>\n",
       "      <th>ca</th>\n",
       "      <th>unit</th>\n",
       "      <th>scp</th>\n",
       "      <th>station</th>\n",
       "      <th>linename</th>\n",
       "      <th>division</th>\n",
       "      <th>desc</th>\n",
       "      <th>entries</th>\n",
       "      <th>exits</th>\n",
       "    </tr>\n",
       "  </thead>\n",
       "  <tbody>\n",
       "    <tr>\n",
       "      <th>1269275</th>\n",
       "      <td>16:00:00</td>\n",
       "      <td>2017-02-15</td>\n",
       "      <td>A022</td>\n",
       "      <td>R022</td>\n",
       "      <td>01-06-01</td>\n",
       "      <td>34 ST-HERALD SQ</td>\n",
       "      <td>BDFMNQRW</td>\n",
       "      <td>BMT</td>\n",
       "      <td>REGULAR</td>\n",
       "      <td>4485137.0</td>\n",
       "      <td>6625675.0</td>\n",
       "    </tr>\n",
       "    <tr>\n",
       "      <th>3637627</th>\n",
       "      <td>12:00:00</td>\n",
       "      <td>2017-05-10</td>\n",
       "      <td>N011</td>\n",
       "      <td>R126</td>\n",
       "      <td>01-05-01</td>\n",
       "      <td>175 ST</td>\n",
       "      <td>A</td>\n",
       "      <td>IND</td>\n",
       "      <td>REGULAR</td>\n",
       "      <td>0.0</td>\n",
       "      <td>212.0</td>\n",
       "    </tr>\n",
       "    <tr>\n",
       "      <th>717625</th>\n",
       "      <td>20:00:00</td>\n",
       "      <td>2017-01-26</td>\n",
       "      <td>H009</td>\n",
       "      <td>R235</td>\n",
       "      <td>00-03-03</td>\n",
       "      <td>BEDFORD AV</td>\n",
       "      <td>L</td>\n",
       "      <td>BMT</td>\n",
       "      <td>REGULAR</td>\n",
       "      <td>21651356.0</td>\n",
       "      <td>11438186.0</td>\n",
       "    </tr>\n",
       "  </tbody>\n",
       "</table>\n",
       "</div>"
      ],
      "text/plain": [
       "             time        date    ca  unit       scp          station  \\\n",
       "1269275  16:00:00  2017-02-15  A022  R022  01-06-01  34 ST-HERALD SQ   \n",
       "3637627  12:00:00  2017-05-10  N011  R126  01-05-01           175 ST   \n",
       "717625   20:00:00  2017-01-26  H009  R235  00-03-03       BEDFORD AV   \n",
       "\n",
       "         linename division     desc     entries       exits  \n",
       "1269275  BDFMNQRW      BMT  REGULAR   4485137.0   6625675.0  \n",
       "3637627         A      IND  REGULAR         0.0       212.0  \n",
       "717625          L      BMT  REGULAR  21651356.0  11438186.0  "
      ]
     },
     "execution_count": 3,
     "metadata": {},
     "output_type": "execute_result"
    }
   ],
   "source": [
    "def read_csv(year):\n",
    "    df = pd.read_csv(f'./{year}.csv')\n",
    "    \n",
    "    df['date'] = df['time'].apply(lambda x: x[:10])\n",
    "    df['time'] = df['time'].apply(lambda x: x[-8:])\n",
    "    df = df[['time', 'date', 'ca', 'unit', 'scp', 'station', 'linename', 'division', 'desc', 'entries', 'exits']]\n",
    "    \n",
    "    return df\n",
    "\n",
    "# All work is going to be done using data from 2017 only\n",
    "year = 2017\n",
    "df = read_csv(year)\n",
    "\n",
    "df.sample(3)"
   ]
  },
  {
   "cell_type": "code",
   "execution_count": 4,
   "metadata": {},
   "outputs": [],
   "source": [
    "### Audit event type isn't that relevant. Drop it.\n",
    "\n",
    "df = df.drop('desc', axis=1)"
   ]
  },
  {
   "cell_type": "markdown",
   "metadata": {},
   "source": [
    "### Removing intraday data\n",
    "\n",
    "Intraday data is too high of a cardinality to work with (I'll have memory problems). Let's only use daily data. Before doing any EDA, let's remove intraday records. We'll keep the first record for each turnstile."
   ]
  },
  {
   "cell_type": "code",
   "execution_count": 5,
   "metadata": {},
   "outputs": [],
   "source": [
    "# The values in the following list uniquely identify a turnstile\n",
    "\n",
    "identifier = ['ca', 'unit', 'scp', 'station', 'linename', 'division']"
   ]
  },
  {
   "cell_type": "code",
   "execution_count": 6,
   "metadata": {},
   "outputs": [
    {
     "data": {
      "text/html": [
       "<div>\n",
       "<style scoped>\n",
       "    .dataframe tbody tr th:only-of-type {\n",
       "        vertical-align: middle;\n",
       "    }\n",
       "\n",
       "    .dataframe tbody tr th {\n",
       "        vertical-align: top;\n",
       "    }\n",
       "\n",
       "    .dataframe thead th {\n",
       "        text-align: right;\n",
       "    }\n",
       "</style>\n",
       "<table border=\"1\" class=\"dataframe\">\n",
       "  <thead>\n",
       "    <tr style=\"text-align: right;\">\n",
       "      <th></th>\n",
       "      <th>date</th>\n",
       "      <th>ca</th>\n",
       "      <th>unit</th>\n",
       "      <th>scp</th>\n",
       "      <th>station</th>\n",
       "      <th>linename</th>\n",
       "      <th>division</th>\n",
       "      <th>time</th>\n",
       "      <th>entries</th>\n",
       "      <th>exits</th>\n",
       "    </tr>\n",
       "  </thead>\n",
       "  <tbody>\n",
       "    <tr>\n",
       "      <th>0</th>\n",
       "      <td>2017-01-01</td>\n",
       "      <td>A002</td>\n",
       "      <td>R051</td>\n",
       "      <td>02-00-00</td>\n",
       "      <td>59 ST</td>\n",
       "      <td>NQR456W</td>\n",
       "      <td>BMT</td>\n",
       "      <td>00:00:00</td>\n",
       "      <td>5992418.0</td>\n",
       "      <td>2028543.0</td>\n",
       "    </tr>\n",
       "    <tr>\n",
       "      <th>1</th>\n",
       "      <td>2017-01-01</td>\n",
       "      <td>A002</td>\n",
       "      <td>R051</td>\n",
       "      <td>02-00-01</td>\n",
       "      <td>59 ST</td>\n",
       "      <td>NQR456W</td>\n",
       "      <td>BMT</td>\n",
       "      <td>00:00:00</td>\n",
       "      <td>5475502.0</td>\n",
       "      <td>1204841.0</td>\n",
       "    </tr>\n",
       "    <tr>\n",
       "      <th>2</th>\n",
       "      <td>2017-01-01</td>\n",
       "      <td>A002</td>\n",
       "      <td>R051</td>\n",
       "      <td>02-03-00</td>\n",
       "      <td>59 ST</td>\n",
       "      <td>NQR456W</td>\n",
       "      <td>BMT</td>\n",
       "      <td>00:00:00</td>\n",
       "      <td>842188.0</td>\n",
       "      <td>3132405.0</td>\n",
       "    </tr>\n",
       "  </tbody>\n",
       "</table>\n",
       "</div>"
      ],
      "text/plain": [
       "         date    ca  unit       scp station linename division      time  \\\n",
       "0  2017-01-01  A002  R051  02-00-00   59 ST  NQR456W      BMT  00:00:00   \n",
       "1  2017-01-01  A002  R051  02-00-01   59 ST  NQR456W      BMT  00:00:00   \n",
       "2  2017-01-01  A002  R051  02-03-00   59 ST  NQR456W      BMT  00:00:00   \n",
       "\n",
       "     entries      exits  \n",
       "0  5992418.0  2028543.0  \n",
       "1  5475502.0  1204841.0  \n",
       "2   842188.0  3132405.0  "
      ]
     },
     "execution_count": 6,
     "metadata": {},
     "output_type": "execute_result"
    }
   ],
   "source": [
    "### Getting first record of each turnstile per day\n",
    "\n",
    "def get_first_records(df):\n",
    "    df = df.sort_values(by='time').groupby(['date'] + identifier).first().reset_index()\n",
    "    return df\n",
    "    \n",
    "df = get_first_records(df)\n",
    "df.head(3)"
   ]
  },
  {
   "cell_type": "markdown",
   "metadata": {},
   "source": [
    "### What's the time span of the data?"
   ]
  },
  {
   "cell_type": "code",
   "execution_count": 7,
   "metadata": {},
   "outputs": [
    {
     "name": "stdout",
     "output_type": "stream",
     "text": [
      "2017-01-01 to 2017-05-13\n"
     ]
    }
   ],
   "source": [
    "print(f'{df.date.min()} to {df.date.max()}')"
   ]
  },
  {
   "cell_type": "markdown",
   "metadata": {},
   "source": [
    "### How many records does each turnstile have?"
   ]
  },
  {
   "cell_type": "code",
   "execution_count": 8,
   "metadata": {},
   "outputs": [
    {
     "data": {
      "text/html": [
       "<div>\n",
       "<style scoped>\n",
       "    .dataframe tbody tr th:only-of-type {\n",
       "        vertical-align: middle;\n",
       "    }\n",
       "\n",
       "    .dataframe tbody tr th {\n",
       "        vertical-align: top;\n",
       "    }\n",
       "\n",
       "    .dataframe thead th {\n",
       "        text-align: right;\n",
       "    }\n",
       "</style>\n",
       "<table border=\"1\" class=\"dataframe\">\n",
       "  <thead>\n",
       "    <tr style=\"text-align: right;\">\n",
       "      <th></th>\n",
       "      <th>ca</th>\n",
       "      <th>unit</th>\n",
       "      <th>scp</th>\n",
       "      <th>station</th>\n",
       "      <th>linename</th>\n",
       "      <th>division</th>\n",
       "      <th>records</th>\n",
       "    </tr>\n",
       "  </thead>\n",
       "  <tbody>\n",
       "    <tr>\n",
       "      <th>4201</th>\n",
       "      <td>R504</td>\n",
       "      <td>R276</td>\n",
       "      <td>00-FF-01</td>\n",
       "      <td>VERNON-JACKSON</td>\n",
       "      <td>7</td>\n",
       "      <td>IRT</td>\n",
       "      <td>1</td>\n",
       "    </tr>\n",
       "    <tr>\n",
       "      <th>2233</th>\n",
       "      <td>N504</td>\n",
       "      <td>R021</td>\n",
       "      <td>02-10-05</td>\n",
       "      <td>42 ST-BRYANT PK</td>\n",
       "      <td>BDFM7</td>\n",
       "      <td>IND</td>\n",
       "      <td>1</td>\n",
       "    </tr>\n",
       "    <tr>\n",
       "      <th>1865</th>\n",
       "      <td>N318</td>\n",
       "      <td>R298</td>\n",
       "      <td>00-05-02</td>\n",
       "      <td>NORTHERN BLVD</td>\n",
       "      <td>MR</td>\n",
       "      <td>IND</td>\n",
       "      <td>1</td>\n",
       "    </tr>\n",
       "    <tr>\n",
       "      <th>1658</th>\n",
       "      <td>N206</td>\n",
       "      <td>R104</td>\n",
       "      <td>01-00-01</td>\n",
       "      <td>167 ST</td>\n",
       "      <td>BD</td>\n",
       "      <td>IND</td>\n",
       "      <td>1</td>\n",
       "    </tr>\n",
       "    <tr>\n",
       "      <th>3405</th>\n",
       "      <td>R194</td>\n",
       "      <td>R040</td>\n",
       "      <td>00-94-00</td>\n",
       "      <td>231 ST</td>\n",
       "      <td>1</td>\n",
       "      <td>IRT</td>\n",
       "      <td>1</td>\n",
       "    </tr>\n",
       "    <tr>\n",
       "      <th>1920</th>\n",
       "      <td>N327</td>\n",
       "      <td>R254</td>\n",
       "      <td>00-06-04</td>\n",
       "      <td>GRAND-NEWTOWN</td>\n",
       "      <td>MR</td>\n",
       "      <td>IND</td>\n",
       "      <td>2</td>\n",
       "    </tr>\n",
       "    <tr>\n",
       "      <th>4719</th>\n",
       "      <td>TRAM1</td>\n",
       "      <td>R468</td>\n",
       "      <td>00-05-01</td>\n",
       "      <td>RIT-MANHATTAN</td>\n",
       "      <td>R</td>\n",
       "      <td>RIT</td>\n",
       "      <td>2</td>\n",
       "    </tr>\n",
       "    <tr>\n",
       "      <th>4717</th>\n",
       "      <td>TRAM1</td>\n",
       "      <td>R468</td>\n",
       "      <td>00-03-01</td>\n",
       "      <td>RIT-MANHATTAN</td>\n",
       "      <td>R</td>\n",
       "      <td>RIT</td>\n",
       "      <td>2</td>\n",
       "    </tr>\n",
       "    <tr>\n",
       "      <th>4716</th>\n",
       "      <td>TRAM1</td>\n",
       "      <td>R468</td>\n",
       "      <td>00-03-00</td>\n",
       "      <td>RIT-MANHATTAN</td>\n",
       "      <td>R</td>\n",
       "      <td>RIT</td>\n",
       "      <td>2</td>\n",
       "    </tr>\n",
       "    <tr>\n",
       "      <th>906</th>\n",
       "      <td>J037</td>\n",
       "      <td>R009</td>\n",
       "      <td>00-06-00</td>\n",
       "      <td>121 ST</td>\n",
       "      <td>JZ</td>\n",
       "      <td>BMT</td>\n",
       "      <td>39</td>\n",
       "    </tr>\n",
       "    <tr>\n",
       "      <th>3660</th>\n",
       "      <td>R238</td>\n",
       "      <td>R046</td>\n",
       "      <td>00-06-04</td>\n",
       "      <td>GRD CNTRL-42 ST</td>\n",
       "      <td>4567S</td>\n",
       "      <td>IRT</td>\n",
       "      <td>39</td>\n",
       "    </tr>\n",
       "    <tr>\n",
       "      <th>3659</th>\n",
       "      <td>R238</td>\n",
       "      <td>R046</td>\n",
       "      <td>00-06-03</td>\n",
       "      <td>GRD CNTRL-42 ST</td>\n",
       "      <td>4567S</td>\n",
       "      <td>IRT</td>\n",
       "      <td>39</td>\n",
       "    </tr>\n",
       "    <tr>\n",
       "      <th>3657</th>\n",
       "      <td>R238</td>\n",
       "      <td>R046</td>\n",
       "      <td>00-06-01</td>\n",
       "      <td>GRD CNTRL-42 ST</td>\n",
       "      <td>4567S</td>\n",
       "      <td>IRT</td>\n",
       "      <td>53</td>\n",
       "    </tr>\n",
       "    <tr>\n",
       "      <th>3656</th>\n",
       "      <td>R238</td>\n",
       "      <td>R046</td>\n",
       "      <td>00-06-00</td>\n",
       "      <td>GRD CNTRL-42 ST</td>\n",
       "      <td>4567S</td>\n",
       "      <td>IRT</td>\n",
       "      <td>53</td>\n",
       "    </tr>\n",
       "    <tr>\n",
       "      <th>3658</th>\n",
       "      <td>R238</td>\n",
       "      <td>R046</td>\n",
       "      <td>00-06-02</td>\n",
       "      <td>GRD CNTRL-42 ST</td>\n",
       "      <td>4567S</td>\n",
       "      <td>IRT</td>\n",
       "      <td>53</td>\n",
       "    </tr>\n",
       "    <tr>\n",
       "      <th>2111</th>\n",
       "      <td>N408A</td>\n",
       "      <td>R256</td>\n",
       "      <td>00-00-01</td>\n",
       "      <td>NASSAU ST</td>\n",
       "      <td>G</td>\n",
       "      <td>IND</td>\n",
       "      <td>56</td>\n",
       "    </tr>\n",
       "    <tr>\n",
       "      <th>2113</th>\n",
       "      <td>N408A</td>\n",
       "      <td>R256</td>\n",
       "      <td>00-00-02</td>\n",
       "      <td>NASSAU ST</td>\n",
       "      <td>G</td>\n",
       "      <td>IND</td>\n",
       "      <td>56</td>\n",
       "    </tr>\n",
       "    <tr>\n",
       "      <th>2115</th>\n",
       "      <td>N408A</td>\n",
       "      <td>R256</td>\n",
       "      <td>00-00-03</td>\n",
       "      <td>NASSAU ST</td>\n",
       "      <td>G</td>\n",
       "      <td>IND</td>\n",
       "      <td>56</td>\n",
       "    </tr>\n",
       "    <tr>\n",
       "      <th>2117</th>\n",
       "      <td>N408A</td>\n",
       "      <td>R256</td>\n",
       "      <td>00-03-00</td>\n",
       "      <td>NASSAU ST</td>\n",
       "      <td>G</td>\n",
       "      <td>IND</td>\n",
       "      <td>56</td>\n",
       "    </tr>\n",
       "    <tr>\n",
       "      <th>2119</th>\n",
       "      <td>N408A</td>\n",
       "      <td>R256</td>\n",
       "      <td>00-03-01</td>\n",
       "      <td>NASSAU ST</td>\n",
       "      <td>G</td>\n",
       "      <td>IND</td>\n",
       "      <td>56</td>\n",
       "    </tr>\n",
       "    <tr>\n",
       "      <th>1611</th>\n",
       "      <td>N192</td>\n",
       "      <td>R336</td>\n",
       "      <td>00-00-00</td>\n",
       "      <td>BEACH 60 ST</td>\n",
       "      <td>A</td>\n",
       "      <td>IND</td>\n",
       "      <td>133</td>\n",
       "    </tr>\n",
       "    <tr>\n",
       "      <th>1610</th>\n",
       "      <td>N191</td>\n",
       "      <td>R335</td>\n",
       "      <td>00-05-01</td>\n",
       "      <td>BEACH 67 ST</td>\n",
       "      <td>A</td>\n",
       "      <td>IND</td>\n",
       "      <td>133</td>\n",
       "    </tr>\n",
       "    <tr>\n",
       "      <th>1609</th>\n",
       "      <td>N191</td>\n",
       "      <td>R335</td>\n",
       "      <td>00-05-00</td>\n",
       "      <td>BEACH 67 ST</td>\n",
       "      <td>A</td>\n",
       "      <td>IND</td>\n",
       "      <td>133</td>\n",
       "    </tr>\n",
       "    <tr>\n",
       "      <th>1615</th>\n",
       "      <td>N192</td>\n",
       "      <td>R336</td>\n",
       "      <td>00-05-01</td>\n",
       "      <td>BEACH 60 ST</td>\n",
       "      <td>A</td>\n",
       "      <td>IND</td>\n",
       "      <td>133</td>\n",
       "    </tr>\n",
       "    <tr>\n",
       "      <th>4725</th>\n",
       "      <td>TRAM2</td>\n",
       "      <td>R469</td>\n",
       "      <td>00-05-01</td>\n",
       "      <td>RIT-ROOSEVELT</td>\n",
       "      <td>R</td>\n",
       "      <td>RIT</td>\n",
       "      <td>133</td>\n",
       "    </tr>\n",
       "  </tbody>\n",
       "</table>\n",
       "</div>"
      ],
      "text/plain": [
       "         ca  unit       scp          station linename division  records\n",
       "4201   R504  R276  00-FF-01   VERNON-JACKSON        7      IRT        1\n",
       "2233   N504  R021  02-10-05  42 ST-BRYANT PK    BDFM7      IND        1\n",
       "1865   N318  R298  00-05-02    NORTHERN BLVD       MR      IND        1\n",
       "1658   N206  R104  01-00-01           167 ST       BD      IND        1\n",
       "3405   R194  R040  00-94-00           231 ST        1      IRT        1\n",
       "1920   N327  R254  00-06-04    GRAND-NEWTOWN       MR      IND        2\n",
       "4719  TRAM1  R468  00-05-01    RIT-MANHATTAN        R      RIT        2\n",
       "4717  TRAM1  R468  00-03-01    RIT-MANHATTAN        R      RIT        2\n",
       "4716  TRAM1  R468  00-03-00    RIT-MANHATTAN        R      RIT        2\n",
       "906    J037  R009  00-06-00           121 ST       JZ      BMT       39\n",
       "3660   R238  R046  00-06-04  GRD CNTRL-42 ST    4567S      IRT       39\n",
       "3659   R238  R046  00-06-03  GRD CNTRL-42 ST    4567S      IRT       39\n",
       "3657   R238  R046  00-06-01  GRD CNTRL-42 ST    4567S      IRT       53\n",
       "3656   R238  R046  00-06-00  GRD CNTRL-42 ST    4567S      IRT       53\n",
       "3658   R238  R046  00-06-02  GRD CNTRL-42 ST    4567S      IRT       53\n",
       "2111  N408A  R256  00-00-01        NASSAU ST        G      IND       56\n",
       "2113  N408A  R256  00-00-02        NASSAU ST        G      IND       56\n",
       "2115  N408A  R256  00-00-03        NASSAU ST        G      IND       56\n",
       "2117  N408A  R256  00-03-00        NASSAU ST        G      IND       56\n",
       "2119  N408A  R256  00-03-01        NASSAU ST        G      IND       56\n",
       "1611   N192  R336  00-00-00      BEACH 60 ST        A      IND      133\n",
       "1610   N191  R335  00-05-01      BEACH 67 ST        A      IND      133\n",
       "1609   N191  R335  00-05-00      BEACH 67 ST        A      IND      133\n",
       "1615   N192  R336  00-05-01      BEACH 60 ST        A      IND      133\n",
       "4725  TRAM2  R469  00-05-01    RIT-ROOSEVELT        R      RIT      133"
      ]
     },
     "execution_count": 8,
     "metadata": {},
     "output_type": "execute_result"
    }
   ],
   "source": [
    "# Let's see the number of turnstiles\n",
    "\n",
    "def get_turnstiles_df(df):\n",
    "    turnstiles = df.groupby(identifier).size().reset_index().rename(columns={0: 'records'}).sort_values('records')\n",
    "    return turnstiles\n",
    "\n",
    "turnstiles = get_turnstiles_df(df)\n",
    "turnstiles.iloc[np.r_[0:20, -5:0]] # Selecting top 20 and bottom 5 groups"
   ]
  },
  {
   "cell_type": "code",
   "execution_count": 9,
   "metadata": {},
   "outputs": [
    {
     "data": {
      "text/plain": [
       "Text(0.5, 1.0, 'Distribution of records for each turnstile')"
      ]
     },
     "execution_count": 9,
     "metadata": {},
     "output_type": "execute_result"
    },
    {
     "data": {
      "image/png": "[encoded data removed]",
      "text/plain": [
       "<Figure size 864x432 with 1 Axes>"
      ]
     },
     "metadata": {
      "needs_background": "light"
     },
     "output_type": "display_data"
    }
   ],
   "source": [
    "# Distribution of records for each turnstile\n",
    "\n",
    "plt.figure(figsize=(12,6))\n",
    "sns.distplot(turnstiles['records'])\n",
    "plt.title('Distribution of records for each turnstile', fontsize=16)"
   ]
  },
  {
   "cell_type": "code",
   "execution_count": 10,
   "metadata": {},
   "outputs": [
    {
     "data": {
      "text/plain": [
       "4726"
      ]
     },
     "execution_count": 10,
     "metadata": {},
     "output_type": "execute_result"
    }
   ],
   "source": [
    "# Initial number of turnstiles\n",
    "\n",
    "turnstiles.shape[0]"
   ]
  },
  {
   "cell_type": "code",
   "execution_count": 11,
   "metadata": {},
   "outputs": [
    {
     "data": {
      "text/plain": [
       "0.0050782903089293275"
      ]
     },
     "execution_count": 11,
     "metadata": {},
     "output_type": "execute_result"
    }
   ],
   "source": [
    "# 0.5% of turnstiles have less than 60 records. Let's drop them.\n",
    "\n",
    "THRESHOLD = 60\n",
    "(turnstiles['records'] < THRESHOLD).sum()/len(turnstiles)"
   ]
  },
  {
   "cell_type": "code",
   "execution_count": 12,
   "metadata": {},
   "outputs": [
    {
     "data": {
      "text/html": [
       "<div>\n",
       "<style scoped>\n",
       "    .dataframe tbody tr th:only-of-type {\n",
       "        vertical-align: middle;\n",
       "    }\n",
       "\n",
       "    .dataframe tbody tr th {\n",
       "        vertical-align: top;\n",
       "    }\n",
       "\n",
       "    .dataframe thead th {\n",
       "        text-align: right;\n",
       "    }\n",
       "</style>\n",
       "<table border=\"1\" class=\"dataframe\">\n",
       "  <thead>\n",
       "    <tr style=\"text-align: right;\">\n",
       "      <th></th>\n",
       "      <th>ca</th>\n",
       "      <th>unit</th>\n",
       "      <th>scp</th>\n",
       "      <th>station</th>\n",
       "      <th>linename</th>\n",
       "      <th>division</th>\n",
       "      <th>records</th>\n",
       "    </tr>\n",
       "  </thead>\n",
       "  <tbody>\n",
       "    <tr>\n",
       "      <th>4201</th>\n",
       "      <td>R504</td>\n",
       "      <td>R276</td>\n",
       "      <td>00-FF-01</td>\n",
       "      <td>VERNON-JACKSON</td>\n",
       "      <td>7</td>\n",
       "      <td>IRT</td>\n",
       "      <td>1</td>\n",
       "    </tr>\n",
       "    <tr>\n",
       "      <th>2233</th>\n",
       "      <td>N504</td>\n",
       "      <td>R021</td>\n",
       "      <td>02-10-05</td>\n",
       "      <td>42 ST-BRYANT PK</td>\n",
       "      <td>BDFM7</td>\n",
       "      <td>IND</td>\n",
       "      <td>1</td>\n",
       "    </tr>\n",
       "    <tr>\n",
       "      <th>1865</th>\n",
       "      <td>N318</td>\n",
       "      <td>R298</td>\n",
       "      <td>00-05-02</td>\n",
       "      <td>NORTHERN BLVD</td>\n",
       "      <td>MR</td>\n",
       "      <td>IND</td>\n",
       "      <td>1</td>\n",
       "    </tr>\n",
       "  </tbody>\n",
       "</table>\n",
       "</div>"
      ],
      "text/plain": [
       "        ca  unit       scp          station linename division  records\n",
       "4201  R504  R276  00-FF-01   VERNON-JACKSON        7      IRT        1\n",
       "2233  N504  R021  02-10-05  42 ST-BRYANT PK    BDFM7      IND        1\n",
       "1865  N318  R298  00-05-02    NORTHERN BLVD       MR      IND        1"
      ]
     },
     "execution_count": 12,
     "metadata": {},
     "output_type": "execute_result"
    }
   ],
   "source": [
    "# Get dataframe with turnstiles to drop\n",
    "\n",
    "turnstiles_to_drop = turnstiles.query(f'records < {THRESHOLD}')\n",
    "turnstiles_to_drop.head(3)"
   ]
  },
  {
   "cell_type": "code",
   "execution_count": 13,
   "metadata": {},
   "outputs": [
    {
     "data": {
      "text/html": [
       "<div>\n",
       "<style scoped>\n",
       "    .dataframe tbody tr th:only-of-type {\n",
       "        vertical-align: middle;\n",
       "    }\n",
       "\n",
       "    .dataframe tbody tr th {\n",
       "        vertical-align: top;\n",
       "    }\n",
       "\n",
       "    .dataframe thead th {\n",
       "        text-align: right;\n",
       "    }\n",
       "</style>\n",
       "<table border=\"1\" class=\"dataframe\">\n",
       "  <thead>\n",
       "    <tr style=\"text-align: right;\">\n",
       "      <th></th>\n",
       "      <th>date</th>\n",
       "      <th>ca</th>\n",
       "      <th>unit</th>\n",
       "      <th>scp</th>\n",
       "      <th>station</th>\n",
       "      <th>linename</th>\n",
       "      <th>division</th>\n",
       "      <th>time</th>\n",
       "      <th>entries</th>\n",
       "      <th>exits</th>\n",
       "    </tr>\n",
       "  </thead>\n",
       "  <tbody>\n",
       "    <tr>\n",
       "      <th>0</th>\n",
       "      <td>2017-01-01</td>\n",
       "      <td>A002</td>\n",
       "      <td>R051</td>\n",
       "      <td>02-00-00</td>\n",
       "      <td>59 ST</td>\n",
       "      <td>NQR456W</td>\n",
       "      <td>BMT</td>\n",
       "      <td>00:00:00</td>\n",
       "      <td>5992418.0</td>\n",
       "      <td>2028543.0</td>\n",
       "    </tr>\n",
       "    <tr>\n",
       "      <th>1</th>\n",
       "      <td>2017-01-02</td>\n",
       "      <td>A002</td>\n",
       "      <td>R051</td>\n",
       "      <td>02-00-00</td>\n",
       "      <td>59 ST</td>\n",
       "      <td>NQR456W</td>\n",
       "      <td>BMT</td>\n",
       "      <td>00:00:00</td>\n",
       "      <td>5993301.0</td>\n",
       "      <td>2028728.0</td>\n",
       "    </tr>\n",
       "    <tr>\n",
       "      <th>2</th>\n",
       "      <td>2017-01-03</td>\n",
       "      <td>A002</td>\n",
       "      <td>R051</td>\n",
       "      <td>02-00-00</td>\n",
       "      <td>59 ST</td>\n",
       "      <td>NQR456W</td>\n",
       "      <td>BMT</td>\n",
       "      <td>00:00:00</td>\n",
       "      <td>5994282.0</td>\n",
       "      <td>2029042.0</td>\n",
       "    </tr>\n",
       "  </tbody>\n",
       "</table>\n",
       "</div>"
      ],
      "text/plain": [
       "         date    ca  unit       scp station linename division      time  \\\n",
       "0  2017-01-01  A002  R051  02-00-00   59 ST  NQR456W      BMT  00:00:00   \n",
       "1  2017-01-02  A002  R051  02-00-00   59 ST  NQR456W      BMT  00:00:00   \n",
       "2  2017-01-03  A002  R051  02-00-00   59 ST  NQR456W      BMT  00:00:00   \n",
       "\n",
       "     entries      exits  \n",
       "0  5992418.0  2028543.0  \n",
       "1  5993301.0  2028728.0  \n",
       "2  5994282.0  2029042.0  "
      ]
     },
     "execution_count": 13,
     "metadata": {},
     "output_type": "execute_result"
    }
   ],
   "source": [
    "# Drop turnstiles that have less than 'THRESHOLD' records\n",
    "\n",
    "def drop_turnstiles(df, turnstiles_to_drop):\n",
    "    df_clean = pd.merge(df, turnstiles_to_drop, on=identifier, indicator=True, how='outer').query('_merge == \"left_only\"')\n",
    "    df_clean.drop(['records', '_merge'], axis=1, inplace=True)\n",
    "    return df_clean\n",
    "\n",
    "df = drop_turnstiles(df, turnstiles_to_drop)\n",
    "df.head(3)"
   ]
  },
  {
   "cell_type": "code",
   "execution_count": 14,
   "metadata": {},
   "outputs": [
    {
     "name": "stdout",
     "output_type": "stream",
     "text": [
      "New number of turnstiles:  4702\n"
     ]
    },
    {
     "data": {
      "text/plain": [
       "<matplotlib.axes._subplots.AxesSubplot at 0x27065d1fbc8>"
      ]
     },
     "execution_count": 14,
     "metadata": {},
     "output_type": "execute_result"
    },
    {
     "data": {
      "image/png": "[encoded data removed]",
      "text/plain": [
       "<Figure size 864x432 with 1 Axes>"
      ]
     },
     "metadata": {
      "needs_background": "light"
     },
     "output_type": "display_data"
    }
   ],
   "source": [
    "# Creating new turnstiles dataframe\n",
    "\n",
    "turnstiles = get_turnstiles_df(df)\n",
    "print('New number of turnstiles: ', turnstiles.shape[0])\n",
    "\n",
    "plt.figure(figsize=(12,6))\n",
    "sns.distplot(turnstiles['records'])"
   ]
  },
  {
   "cell_type": "markdown",
   "metadata": {},
   "source": [
    "### Calculating net number of people per turnstile per day\n",
    "\n",
    "Let $u$ and $d$ be a turnstile and a date, respectively. The number of people who entered and exited turnstile $u$ in day $d$ are given by \n",
    "\n",
    "$\\Delta entries_{(u, d)} = entries_{(u, d_{0})} - entries_{(u, (d+1)_{0})} $,\n",
    "\n",
    "and\n",
    "\n",
    "$\\Delta exits_{(u, d)} = exits_{(u, d_{0})} - exits_{(u, (d+1)_{0})} $,\n",
    "\n",
    "where $d_{0}$ is the first timestamp on day $d$. So we'll only need $(u, d_{0})$ data. \n"
   ]
  },
  {
   "cell_type": "code",
   "execution_count": 15,
   "metadata": {},
   "outputs": [
    {
     "data": {
      "text/html": [
       "<div>\n",
       "<style scoped>\n",
       "    .dataframe tbody tr th:only-of-type {\n",
       "        vertical-align: middle;\n",
       "    }\n",
       "\n",
       "    .dataframe tbody tr th {\n",
       "        vertical-align: top;\n",
       "    }\n",
       "\n",
       "    .dataframe thead th {\n",
       "        text-align: right;\n",
       "    }\n",
       "</style>\n",
       "<table border=\"1\" class=\"dataframe\">\n",
       "  <thead>\n",
       "    <tr style=\"text-align: right;\">\n",
       "      <th></th>\n",
       "      <th>date</th>\n",
       "      <th>ca</th>\n",
       "      <th>unit</th>\n",
       "      <th>scp</th>\n",
       "      <th>station</th>\n",
       "      <th>linename</th>\n",
       "      <th>division</th>\n",
       "      <th>time</th>\n",
       "      <th>entries</th>\n",
       "      <th>exits</th>\n",
       "    </tr>\n",
       "  </thead>\n",
       "  <tbody>\n",
       "    <tr>\n",
       "      <th>0</th>\n",
       "      <td>2017-01-01</td>\n",
       "      <td>A002</td>\n",
       "      <td>R051</td>\n",
       "      <td>02-00-00</td>\n",
       "      <td>59 ST</td>\n",
       "      <td>NQR456W</td>\n",
       "      <td>BMT</td>\n",
       "      <td>00:00:00</td>\n",
       "      <td>883.0</td>\n",
       "      <td>185.0</td>\n",
       "    </tr>\n",
       "    <tr>\n",
       "      <th>1</th>\n",
       "      <td>2017-01-02</td>\n",
       "      <td>A002</td>\n",
       "      <td>R051</td>\n",
       "      <td>02-00-00</td>\n",
       "      <td>59 ST</td>\n",
       "      <td>NQR456W</td>\n",
       "      <td>BMT</td>\n",
       "      <td>00:00:00</td>\n",
       "      <td>981.0</td>\n",
       "      <td>314.0</td>\n",
       "    </tr>\n",
       "    <tr>\n",
       "      <th>2</th>\n",
       "      <td>2017-01-03</td>\n",
       "      <td>A002</td>\n",
       "      <td>R051</td>\n",
       "      <td>02-00-00</td>\n",
       "      <td>59 ST</td>\n",
       "      <td>NQR456W</td>\n",
       "      <td>BMT</td>\n",
       "      <td>00:00:00</td>\n",
       "      <td>1591.0</td>\n",
       "      <td>577.0</td>\n",
       "    </tr>\n",
       "    <tr>\n",
       "      <th>3</th>\n",
       "      <td>2017-01-04</td>\n",
       "      <td>A002</td>\n",
       "      <td>R051</td>\n",
       "      <td>02-00-00</td>\n",
       "      <td>59 ST</td>\n",
       "      <td>NQR456W</td>\n",
       "      <td>BMT</td>\n",
       "      <td>00:00:00</td>\n",
       "      <td>1664.0</td>\n",
       "      <td>598.0</td>\n",
       "    </tr>\n",
       "    <tr>\n",
       "      <th>4</th>\n",
       "      <td>2017-01-05</td>\n",
       "      <td>A002</td>\n",
       "      <td>R051</td>\n",
       "      <td>02-00-00</td>\n",
       "      <td>59 ST</td>\n",
       "      <td>NQR456W</td>\n",
       "      <td>BMT</td>\n",
       "      <td>00:00:00</td>\n",
       "      <td>1695.0</td>\n",
       "      <td>613.0</td>\n",
       "    </tr>\n",
       "  </tbody>\n",
       "</table>\n",
       "</div>"
      ],
      "text/plain": [
       "         date    ca  unit       scp station linename division      time  \\\n",
       "0  2017-01-01  A002  R051  02-00-00   59 ST  NQR456W      BMT  00:00:00   \n",
       "1  2017-01-02  A002  R051  02-00-00   59 ST  NQR456W      BMT  00:00:00   \n",
       "2  2017-01-03  A002  R051  02-00-00   59 ST  NQR456W      BMT  00:00:00   \n",
       "3  2017-01-04  A002  R051  02-00-00   59 ST  NQR456W      BMT  00:00:00   \n",
       "4  2017-01-05  A002  R051  02-00-00   59 ST  NQR456W      BMT  00:00:00   \n",
       "\n",
       "   entries  exits  \n",
       "0    883.0  185.0  \n",
       "1    981.0  314.0  \n",
       "2   1591.0  577.0  \n",
       "3   1664.0  598.0  \n",
       "4   1695.0  613.0  "
      ]
     },
     "execution_count": 15,
     "metadata": {},
     "output_type": "execute_result"
    }
   ],
   "source": [
    "### Getting daily delta\n",
    "\n",
    "def get_delta(df):\n",
    "    df[['entries', 'exits']] = df.groupby(identifier)[['entries', 'exits']].diff(-1)*-1\n",
    "    return df.dropna()\n",
    "\n",
    "### Entries and exits now are the number of people who entered in a specific day only. It's not cumulative anymore.\n",
    "df = get_delta(df)\n",
    "df.head(5)"
   ]
  },
  {
   "cell_type": "code",
   "execution_count": 16,
   "metadata": {},
   "outputs": [],
   "source": [
    "# Some rows have negative entries and exits field, which doesn´t make any sense. If the original\n",
    "# values were cumulative, they should only increase.\n",
    "\n",
    "df = df.query('entries > 0 and exits > 0')"
   ]
  },
  {
   "cell_type": "code",
   "execution_count": 17,
   "metadata": {},
   "outputs": [],
   "source": [
    "# Putting all operations in a single function\n",
    "\n",
    "def get_new_df_and_turnstiles(df):\n",
    "    \n",
    "    # Get turnstiles df\n",
    "    turnstiles = get_turnstiles_df(df)\n",
    "\n",
    "    # Get turnstiles that have < 'THRESHOLD' registers\n",
    "    turnstiles_to_drop = turnstiles.query(f'records < {THRESHOLD}')\n",
    "\n",
    "    # Drop those turnstiles\n",
    "    df = drop_turnstiles(df, turnstiles_to_drop)\n",
    "\n",
    "    # Get new turnstiles df\n",
    "    turnstiles = get_turnstiles_df(df)\n",
    "    \n",
    "    return df, turnstiles\n",
    "\n",
    "df, turnstiles = get_new_df_and_turnstiles(df)"
   ]
  },
  {
   "cell_type": "code",
   "execution_count": 18,
   "metadata": {},
   "outputs": [
    {
     "data": {
      "text/plain": [
       "False"
      ]
     },
     "execution_count": 18,
     "metadata": {},
     "output_type": "execute_result"
    }
   ],
   "source": [
    "# Are there anymore records with negative 'entries' or 'exits' value?\n",
    "\n",
    "((df['entries'] < 0) |( df['exits'] < 0)).any()"
   ]
  },
  {
   "cell_type": "code",
   "execution_count": 19,
   "metadata": {},
   "outputs": [
    {
     "data": {
      "text/plain": [
       "4107"
      ]
     },
     "execution_count": 19,
     "metadata": {},
     "output_type": "execute_result"
    }
   ],
   "source": [
    "# How many turnstiles does the final, clean, dataframe have?\n",
    "\n",
    "turnstiles.shape[0]"
   ]
  },
  {
   "cell_type": "markdown",
   "metadata": {},
   "source": [
    "# Exploratory data analysis\n",
    "\n",
    "Now the data is ready for some adequate EDA."
   ]
  },
  {
   "cell_type": "markdown",
   "metadata": {},
   "source": [
    "#### Exploring entries and exits per turnstile"
   ]
  },
  {
   "cell_type": "code",
   "execution_count": 20,
   "metadata": {},
   "outputs": [
    {
     "name": "stdout",
     "output_type": "stream",
     "text": [
      "Median log of entries: 3.0008677215312267\n",
      "Max log of entries: 9.305473973466047\n"
     ]
    },
    {
     "data": {
      "text/plain": [
       "<matplotlib.axes._subplots.AxesSubplot at 0x27023b2d648>"
      ]
     },
     "execution_count": 20,
     "metadata": {},
     "output_type": "execute_result"
    },
    {
     "data": {
      "image/png": "[encoded data removed]",
      "text/plain": [
       "<Figure size 432x288 with 1 Axes>"
      ]
     },
     "metadata": {
      "needs_background": "light"
     },
     "output_type": "display_data"
    }
   ],
   "source": [
    "### Distribution of entries per turnstile\n",
    "\n",
    "entries_log = np.log10(df['entries'])\n",
    "\n",
    "print('Median log of entries:', entries_log.median())\n",
    "print('Max log of entries:', entries_log.max())\n",
    "\n",
    "sns.distplot(np.log10(df['entries']), kde=False)"
   ]
  },
  {
   "cell_type": "code",
   "execution_count": 21,
   "metadata": {},
   "outputs": [
    {
     "data": {
      "text/plain": [
       "0.017974413161542482"
      ]
     },
     "execution_count": 21,
     "metadata": {},
     "output_type": "execute_result"
    }
   ],
   "source": [
    "# The vast majority of turnstiles are below 4000 entries per day\n",
    "\n",
    "(df['entries'] > 4000).sum()/len(df)"
   ]
  },
  {
   "cell_type": "code",
   "execution_count": 22,
   "metadata": {},
   "outputs": [
    {
     "data": {
      "text/plain": [
       "0.01573802652608297"
      ]
     },
     "execution_count": 22,
     "metadata": {},
     "output_type": "execute_result"
    }
   ],
   "source": [
    "(df['exits'] > 4000).sum()/len(df)"
   ]
  },
  {
   "cell_type": "code",
   "execution_count": 23,
   "metadata": {},
   "outputs": [],
   "source": [
    "### Drop these outliers\n",
    "\n",
    "df = df.query('entries <= 4000 and exits <= 4000')"
   ]
  },
  {
   "cell_type": "code",
   "execution_count": 24,
   "metadata": {},
   "outputs": [
    {
     "data": {
      "text/plain": [
       "<matplotlib.legend.Legend at 0x270248b96c8>"
      ]
     },
     "execution_count": 24,
     "metadata": {},
     "output_type": "execute_result"
    },
    {
     "data": {
      "image/png": "[encoded data removed]",
      "text/plain": [
       "<Figure size 432x288 with 1 Axes>"
      ]
     },
     "metadata": {
      "needs_background": "light"
     },
     "output_type": "display_data"
    }
   ],
   "source": [
    "# Drop them and plot new distribution\n",
    "\n",
    "plt.title('Entries and exits distribution per turnstile')\n",
    "sns.distplot(df['entries'], kde=False, label='Entries')\n",
    "sns.distplot(df['exits'], kde=False, label='Exits')\n",
    "plt.ylabel('Turnstile . day count', fontsize=12)\n",
    "plt.xlabel('Entries/Exits', fontsize=12)\n",
    "plt.legend()"
   ]
  },
  {
   "cell_type": "markdown",
   "metadata": {},
   "source": [
    "### Exploring entries per day\n",
    "\n",
    "Now, we'll explore total entries per day, not per turnstile"
   ]
  },
  {
   "cell_type": "code",
   "execution_count": 25,
   "metadata": {},
   "outputs": [],
   "source": [
    "entries_per_day = df.groupby('date').agg({'entries': 'sum'})"
   ]
  },
  {
   "cell_type": "code",
   "execution_count": 26,
   "metadata": {},
   "outputs": [
    {
     "data": {
      "image/png": "[encoded data removed]",
      "text/plain": [
       "<Figure size 1440x576 with 1 Axes>"
      ]
     },
     "metadata": {
      "needs_background": "light"
     },
     "output_type": "display_data"
    }
   ],
   "source": [
    "ax = entries_per_day[:100].plot(kind='bar', figsize=(20, 8))\n",
    "\n",
    "plt.ylabel('Entries per day', fontsize=16, labelpad=12)\n",
    "plt.title(f'Total number of entries per day, first 100 days of {year}', fontsize=16)\n",
    "\n",
    "every_nth = 4\n",
    "for n, label in enumerate(ax.xaxis.get_ticklabels()):\n",
    "    if n % every_nth != 0:\n",
    "        label.set_visible(False)\n",
    "\n",
    "_ = plt.xticks(rotation = 45)"
   ]
  },
  {
   "cell_type": "code",
   "execution_count": 27,
   "metadata": {},
   "outputs": [
    {
     "data": {
      "text/plain": [
       "(array([0, 1, 2, 3, 4, 5, 6]), <a list of 7 Text xticklabel objects>)"
      ]
     },
     "execution_count": 27,
     "metadata": {},
     "output_type": "execute_result"
    },
    {
     "data": {
      "image/png": "[encoded data removed]",
      "text/plain": [
       "<Figure size 576x288 with 1 Axes>"
      ]
     },
     "metadata": {
      "needs_background": "light"
     },
     "output_type": "display_data"
    }
   ],
   "source": [
    "# Presumably, entries data has a weekly periodicity, with smallest values ocurring in weekends.\n",
    "# Let's check. The following dataframe displays average entries\n",
    "# per turnstile for each day of the week.\n",
    "\n",
    "week = {\n",
    "    0: 'Monday',\n",
    "    1: 'Tuesday',\n",
    "    2: 'Wednesday',\n",
    "    3: 'Thursday',\n",
    "    4: 'Friday',\n",
    "    5: 'Saturday',\n",
    "    6: 'Sunday'\n",
    "}\n",
    "\n",
    "entries_per_day['weekday'] = entries_per_day.index.map(lambda x: week[datetime.strptime(x, '%Y-%m-%d').weekday()]).values\n",
    "\n",
    "entries_per_day.groupby('weekday').agg({'entries': 'mean'}).reindex(list(week.values())).plot(kind='bar', figsize=(8,4))\n",
    "\n",
    "plt.title('Average entries for each day of the week')\n",
    "plt.xticks(rotation=0)"
   ]
  },
  {
   "cell_type": "code",
   "execution_count": 28,
   "metadata": {},
   "outputs": [
    {
     "data": {
      "text/plain": [
       "(array([ 0,  1,  2,  3,  4,  5,  6,  7,  8,  9, 10, 11, 12, 13, 14]),\n",
       " <a list of 15 Text xticklabel objects>)"
      ]
     },
     "execution_count": 28,
     "metadata": {},
     "output_type": "execute_result"
    },
    {
     "data": {
      "image/png": "[encoded data removed]",
      "text/plain": [
       "<Figure size 576x288 with 1 Axes>"
      ]
     },
     "metadata": {
      "needs_background": "light"
     },
     "output_type": "display_data"
    }
   ],
   "source": [
    "entries_day_station = df.groupby(['date', 'station']).agg({'entries': 'sum'}).reset_index().groupby('station').agg({'entries': 'mean'})\n",
    "\n",
    "samples = 15\n",
    "\n",
    "entries_day_station['entries'].sample(samples).plot(kind='bar', figsize=(8,4))\n",
    "plt.title(f'Average number of entries per station, sample of {samples}')\n",
    "plt.xticks(rotation=60)"
   ]
  },
  {
   "cell_type": "code",
   "execution_count": 29,
   "metadata": {},
   "outputs": [
    {
     "data": {
      "text/plain": [
       "(array([ 0,  1,  2,  3,  4,  5,  6,  7,  8,  9, 10, 11, 12, 13, 14]),\n",
       " <a list of 15 Text xticklabel objects>)"
      ]
     },
     "execution_count": 29,
     "metadata": {},
     "output_type": "execute_result"
    },
    {
     "data": {
      "image/png": "[encoded data removed]",
      "text/plain": [
       "<Figure size 576x288 with 1 Axes>"
      ]
     },
     "metadata": {
      "needs_background": "light"
     },
     "output_type": "display_data"
    }
   ],
   "source": [
    "entries_day_unit = df.groupby(['date', 'unit']).agg({'entries': 'sum'}).reset_index().groupby('unit').agg({'entries': 'mean'})\n",
    "\n",
    "samples = 15\n",
    "\n",
    "entries_day_unit['entries'].sample(samples).plot(kind='bar', figsize=(8,4))\n",
    "plt.title(f'Average number of entries per unit, sample of {samples}')\n",
    "plt.xticks(rotation=60)"
   ]
  },
  {
   "cell_type": "markdown",
   "metadata": {},
   "source": [
    "### Getting unique values and samples for other columns"
   ]
  },
  {
   "cell_type": "code",
   "execution_count": 30,
   "metadata": {},
   "outputs": [
    {
     "name": "stdout",
     "output_type": "stream",
     "text": [
      "Column:  ca\n",
      "Uniques:  725\n",
      "Samples:  ['N119' 'R254' 'PTH17' 'N045' 'N185']\n",
      "-----------\n",
      "Column:  unit\n",
      "Uniques:  465\n",
      "Samples:  ['R571' 'R113' 'R116' 'R429' 'R088']\n",
      "-----------\n",
      "Column:  station\n",
      "Uniques:  372\n",
      "Samples:  ['SHEEPSHEAD BAY' '82 ST-JACKSON H' '145 ST' 'JAMAICA CENTER'\n",
      " 'JKSN HT-ROOSVLT']\n",
      "-----------\n",
      "Column:  linename\n",
      "Uniques:  114\n",
      "Samples:  ['456NQRW' '456' 'EJZ' 'NQR456W' 'R']\n",
      "-----------\n",
      "Column:  scp\n",
      "Uniques:  201\n",
      "Samples:  ['00-00-04' '01-00-00' '00-00-01' '00-03-00' '00-00-01']\n",
      "-----------\n"
     ]
    }
   ],
   "source": [
    "for c in ['ca', 'unit', 'station', 'linename', 'scp']:\n",
    "    print('Column: ', c)\n",
    "    print('Uniques: ', df[c].nunique())\n",
    "    print('Samples: ', df[c].sample(5).values)\n",
    "    print('-----------')"
   ]
  },
  {
   "cell_type": "markdown",
   "metadata": {},
   "source": [
    "## Objective: forecast the number of people who use the subway by day"
   ]
  },
  {
   "cell_type": "markdown",
   "metadata": {},
   "source": [
    "#### Preparing train and test data"
   ]
  },
  {
   "cell_type": "code",
   "execution_count": 31,
   "metadata": {},
   "outputs": [
    {
     "data": {
      "text/html": [
       "<div>\n",
       "<style scoped>\n",
       "    .dataframe tbody tr th:only-of-type {\n",
       "        vertical-align: middle;\n",
       "    }\n",
       "\n",
       "    .dataframe tbody tr th {\n",
       "        vertical-align: top;\n",
       "    }\n",
       "\n",
       "    .dataframe thead th {\n",
       "        text-align: right;\n",
       "    }\n",
       "</style>\n",
       "<table border=\"1\" class=\"dataframe\">\n",
       "  <thead>\n",
       "    <tr style=\"text-align: right;\">\n",
       "      <th></th>\n",
       "      <th>ds</th>\n",
       "      <th>y</th>\n",
       "    </tr>\n",
       "  </thead>\n",
       "  <tbody>\n",
       "    <tr>\n",
       "      <th>0</th>\n",
       "      <td>2017-01-01</td>\n",
       "      <td>2654732.0</td>\n",
       "    </tr>\n",
       "    <tr>\n",
       "      <th>1</th>\n",
       "      <td>2017-01-02</td>\n",
       "      <td>2782760.0</td>\n",
       "    </tr>\n",
       "    <tr>\n",
       "      <th>2</th>\n",
       "      <td>2017-01-03</td>\n",
       "      <td>4832623.0</td>\n",
       "    </tr>\n",
       "    <tr>\n",
       "      <th>3</th>\n",
       "      <td>2017-01-04</td>\n",
       "      <td>5134608.0</td>\n",
       "    </tr>\n",
       "    <tr>\n",
       "      <th>4</th>\n",
       "      <td>2017-01-05</td>\n",
       "      <td>5127407.0</td>\n",
       "    </tr>\n",
       "  </tbody>\n",
       "</table>\n",
       "</div>"
      ],
      "text/plain": [
       "          ds          y\n",
       "0 2017-01-01  2654732.0\n",
       "1 2017-01-02  2782760.0\n",
       "2 2017-01-03  4832623.0\n",
       "3 2017-01-04  5134608.0\n",
       "4 2017-01-05  5127407.0"
      ]
     },
     "execution_count": 31,
     "metadata": {},
     "output_type": "execute_result"
    }
   ],
   "source": [
    "# Preparing Prophet style dataframe. 'entries_per_day' is a dataframe with the time series of total number of entries into\n",
    "# the NYC subway.\n",
    "\n",
    "entries_per_day = entries_per_day.reset_index().drop('weekday', axis=1).rename(columns={'date': 'ds', 'entries': 'y'})\n",
    "\n",
    "entries_per_day['ds'] = entries_per_day['ds'].astype('datetime64[ns]')\n",
    "\n",
    "entries_per_day.head(5)"
   ]
  },
  {
   "cell_type": "code",
   "execution_count": 32,
   "metadata": {},
   "outputs": [],
   "source": [
    "# Use last 'TEST_DAYS' as test\n",
    "\n",
    "TEST_DAYS = 30\n",
    "\n",
    "entries_per_day_train = entries_per_day[:-TEST_DAYS]\n",
    "entries_per_day_test = entries_per_day[-TEST_DAYS:]"
   ]
  },
  {
   "cell_type": "markdown",
   "metadata": {},
   "source": [
    "#### Modelling"
   ]
  },
  {
   "cell_type": "code",
   "execution_count": 33,
   "metadata": {},
   "outputs": [],
   "source": [
    "from fbprophet import Prophet, plot"
   ]
  },
  {
   "cell_type": "code",
   "execution_count": 34,
   "metadata": {},
   "outputs": [
    {
     "name": "stderr",
     "output_type": "stream",
     "text": [
      "INFO:fbprophet:Disabling daily seasonality. Run prophet with daily_seasonality=True to override this.\n"
     ]
    }
   ],
   "source": [
    "# Instantiate Prophet\n",
    "model = Prophet(yearly_seasonality=False)\n",
    "\n",
    "# Add US holidays\n",
    "model.add_country_holidays(country_name='US')\n",
    "\n",
    "# Fit model to training DF\n",
    "model.fit(entries_per_day_train)\n",
    "\n",
    "# Forecast\n",
    "y_pred = model.predict(entries_per_day_test)"
   ]
  },
  {
   "cell_type": "markdown",
   "metadata": {},
   "source": [
    "#### Plot results"
   ]
  },
  {
   "cell_type": "code",
   "execution_count": 35,
   "metadata": {},
   "outputs": [
    {
     "data": {
      "text/plain": [
       "Text(0.5, 1, 'Actual vs predicted')"
      ]
     },
     "execution_count": 35,
     "metadata": {},
     "output_type": "execute_result"
    },
    {
     "data": {
      "image/png": "[encoded data removed]",
      "text/plain": [
       "<Figure size 1008x432 with 1 Axes>"
      ]
     },
     "metadata": {},
     "output_type": "display_data"
    }
   ],
   "source": [
    "from matplotlib.lines import Line2D\n",
    "\n",
    "plot.plot(model, y_pred, uncertainty=True, figsize=(14, 6))\n",
    "plt.plot(entries_per_day_test['ds'], entries_per_day_test['y'], color='r')\n",
    "\n",
    "colors = ['#0072B2', '#B23B00']\n",
    "lines = [Line2D([0], [0], color=c, linewidth=3, linestyle='-') for c in colors]\n",
    "labels = ['predicted', 'actual']\n",
    "plt.legend(lines, labels, fontsize=10)\n",
    "\n",
    "plt.title('Actual vs predicted', fontsize=16)"
   ]
  },
  {
   "cell_type": "code",
   "execution_count": 36,
   "metadata": {},
   "outputs": [
    {
     "data": {
      "text/html": [
       "<div>\n",
       "<style scoped>\n",
       "    .dataframe tbody tr th:only-of-type {\n",
       "        vertical-align: middle;\n",
       "    }\n",
       "\n",
       "    .dataframe tbody tr th {\n",
       "        vertical-align: top;\n",
       "    }\n",
       "\n",
       "    .dataframe thead th {\n",
       "        text-align: right;\n",
       "    }\n",
       "</style>\n",
       "<table border=\"1\" class=\"dataframe\">\n",
       "  <thead>\n",
       "    <tr style=\"text-align: right;\">\n",
       "      <th></th>\n",
       "      <th>prediction</th>\n",
       "      <th>actual</th>\n",
       "    </tr>\n",
       "    <tr>\n",
       "      <th>ds</th>\n",
       "      <th></th>\n",
       "      <th></th>\n",
       "    </tr>\n",
       "  </thead>\n",
       "  <tbody>\n",
       "    <tr>\n",
       "      <th>2017-04-13</th>\n",
       "      <td>5241318</td>\n",
       "      <td>5151929</td>\n",
       "    </tr>\n",
       "    <tr>\n",
       "      <th>2017-04-14</th>\n",
       "      <td>5294906</td>\n",
       "      <td>4693377</td>\n",
       "    </tr>\n",
       "    <tr>\n",
       "      <th>2017-04-15</th>\n",
       "      <td>3337969</td>\n",
       "      <td>3248999</td>\n",
       "    </tr>\n",
       "    <tr>\n",
       "      <th>2017-04-16</th>\n",
       "      <td>2689216</td>\n",
       "      <td>2669122</td>\n",
       "    </tr>\n",
       "    <tr>\n",
       "      <th>2017-04-17</th>\n",
       "      <td>5149674</td>\n",
       "      <td>4735369</td>\n",
       "    </tr>\n",
       "    <tr>\n",
       "      <th>2017-04-18</th>\n",
       "      <td>4991376</td>\n",
       "      <td>5031045</td>\n",
       "    </tr>\n",
       "    <tr>\n",
       "      <th>2017-04-19</th>\n",
       "      <td>5334447</td>\n",
       "      <td>5369821</td>\n",
       "    </tr>\n",
       "    <tr>\n",
       "      <th>2017-04-20</th>\n",
       "      <td>5255402</td>\n",
       "      <td>5373494</td>\n",
       "    </tr>\n",
       "    <tr>\n",
       "      <th>2017-04-21</th>\n",
       "      <td>5308990</td>\n",
       "      <td>5305629</td>\n",
       "    </tr>\n",
       "    <tr>\n",
       "      <th>2017-04-22</th>\n",
       "      <td>3352053</td>\n",
       "      <td>3395319</td>\n",
       "    </tr>\n",
       "    <tr>\n",
       "      <th>2017-04-23</th>\n",
       "      <td>2703299</td>\n",
       "      <td>2813163</td>\n",
       "    </tr>\n",
       "    <tr>\n",
       "      <th>2017-04-24</th>\n",
       "      <td>5163758</td>\n",
       "      <td>5184369</td>\n",
       "    </tr>\n",
       "    <tr>\n",
       "      <th>2017-04-25</th>\n",
       "      <td>5005460</td>\n",
       "      <td>5264468</td>\n",
       "    </tr>\n",
       "    <tr>\n",
       "      <th>2017-04-26</th>\n",
       "      <td>5348531</td>\n",
       "      <td>5299605</td>\n",
       "    </tr>\n",
       "    <tr>\n",
       "      <th>2017-04-27</th>\n",
       "      <td>5269486</td>\n",
       "      <td>5392922</td>\n",
       "    </tr>\n",
       "    <tr>\n",
       "      <th>2017-04-28</th>\n",
       "      <td>5323074</td>\n",
       "      <td>5359583</td>\n",
       "    </tr>\n",
       "    <tr>\n",
       "      <th>2017-04-29</th>\n",
       "      <td>3366137</td>\n",
       "      <td>3435405</td>\n",
       "    </tr>\n",
       "    <tr>\n",
       "      <th>2017-04-30</th>\n",
       "      <td>2717383</td>\n",
       "      <td>2766055</td>\n",
       "    </tr>\n",
       "    <tr>\n",
       "      <th>2017-05-01</th>\n",
       "      <td>5177841</td>\n",
       "      <td>5219421</td>\n",
       "    </tr>\n",
       "    <tr>\n",
       "      <th>2017-05-02</th>\n",
       "      <td>5019543</td>\n",
       "      <td>5364933</td>\n",
       "    </tr>\n",
       "    <tr>\n",
       "      <th>2017-05-03</th>\n",
       "      <td>5362615</td>\n",
       "      <td>5401885</td>\n",
       "    </tr>\n",
       "    <tr>\n",
       "      <th>2017-05-04</th>\n",
       "      <td>5283570</td>\n",
       "      <td>5403782</td>\n",
       "    </tr>\n",
       "    <tr>\n",
       "      <th>2017-05-05</th>\n",
       "      <td>5337158</td>\n",
       "      <td>5093799</td>\n",
       "    </tr>\n",
       "    <tr>\n",
       "      <th>2017-05-06</th>\n",
       "      <td>3380220</td>\n",
       "      <td>3300372</td>\n",
       "    </tr>\n",
       "    <tr>\n",
       "      <th>2017-05-07</th>\n",
       "      <td>2731467</td>\n",
       "      <td>2721818</td>\n",
       "    </tr>\n",
       "    <tr>\n",
       "      <th>2017-05-08</th>\n",
       "      <td>5191925</td>\n",
       "      <td>5178202</td>\n",
       "    </tr>\n",
       "    <tr>\n",
       "      <th>2017-05-09</th>\n",
       "      <td>5033627</td>\n",
       "      <td>5334203</td>\n",
       "    </tr>\n",
       "    <tr>\n",
       "      <th>2017-05-10</th>\n",
       "      <td>5376698</td>\n",
       "      <td>5339752</td>\n",
       "    </tr>\n",
       "    <tr>\n",
       "      <th>2017-05-11</th>\n",
       "      <td>5297653</td>\n",
       "      <td>5379929</td>\n",
       "    </tr>\n",
       "    <tr>\n",
       "      <th>2017-05-12</th>\n",
       "      <td>5351241</td>\n",
       "      <td>5319745</td>\n",
       "    </tr>\n",
       "  </tbody>\n",
       "</table>\n",
       "</div>"
      ],
      "text/plain": [
       "            prediction   actual\n",
       "ds                             \n",
       "2017-04-13     5241318  5151929\n",
       "2017-04-14     5294906  4693377\n",
       "2017-04-15     3337969  3248999\n",
       "2017-04-16     2689216  2669122\n",
       "2017-04-17     5149674  4735369\n",
       "2017-04-18     4991376  5031045\n",
       "2017-04-19     5334447  5369821\n",
       "2017-04-20     5255402  5373494\n",
       "2017-04-21     5308990  5305629\n",
       "2017-04-22     3352053  3395319\n",
       "2017-04-23     2703299  2813163\n",
       "2017-04-24     5163758  5184369\n",
       "2017-04-25     5005460  5264468\n",
       "2017-04-26     5348531  5299605\n",
       "2017-04-27     5269486  5392922\n",
       "2017-04-28     5323074  5359583\n",
       "2017-04-29     3366137  3435405\n",
       "2017-04-30     2717383  2766055\n",
       "2017-05-01     5177841  5219421\n",
       "2017-05-02     5019543  5364933\n",
       "2017-05-03     5362615  5401885\n",
       "2017-05-04     5283570  5403782\n",
       "2017-05-05     5337158  5093799\n",
       "2017-05-06     3380220  3300372\n",
       "2017-05-07     2731467  2721818\n",
       "2017-05-08     5191925  5178202\n",
       "2017-05-09     5033627  5334203\n",
       "2017-05-10     5376698  5339752\n",
       "2017-05-11     5297653  5379929\n",
       "2017-05-12     5351241  5319745"
      ]
     },
     "execution_count": 36,
     "metadata": {},
     "output_type": "execute_result"
    }
   ],
   "source": [
    "# Showing predicted results from 2017-04-13 to 2017-05-12\n",
    "\n",
    "pd.merge(y_pred[['ds', 'yhat']], entries_per_day_test, on='ds').set_index('ds').astype(int).rename(columns={'yhat': 'prediction', 'y': 'actual'})"
   ]
  },
  {
   "cell_type": "markdown",
   "metadata": {},
   "source": [
    "### Validate model"
   ]
  },
  {
   "cell_type": "code",
   "execution_count": 37,
   "metadata": {},
   "outputs": [],
   "source": [
    "from sklearn.metrics import mean_absolute_error"
   ]
  },
  {
   "cell_type": "code",
   "execution_count": 38,
   "metadata": {},
   "outputs": [
    {
     "name": "stdout",
     "output_type": "stream",
     "text": [
      "4651583 days\n"
     ]
    }
   ],
   "source": [
    "# Mean number of entries per day\n",
    "\n",
    "print(int(entries_per_day_test['y'].mean()), 'days')"
   ]
  },
  {
   "cell_type": "code",
   "execution_count": 39,
   "metadata": {},
   "outputs": [
    {
     "name": "stdout",
     "output_type": "stream",
     "text": [
      "117155 days\n"
     ]
    }
   ],
   "source": [
    "# Mean absolute error\n",
    "\n",
    "print(int(mean_absolute_error(entries_per_day_test['y'], y_pred['yhat'])), 'days')"
   ]
  },
  {
   "cell_type": "code",
   "execution_count": 40,
   "metadata": {},
   "outputs": [
    {
     "data": {
      "text/plain": [
       "0.02518604956635193"
      ]
     },
     "execution_count": 40,
     "metadata": {},
     "output_type": "execute_result"
    }
   ],
   "source": [
    "# Ratio between prediction MAE and target mean\n",
    "\n",
    "117155/4651583"
   ]
  }
 ],
 "metadata": {
  "kernelspec": {
   "display_name": "Python 3",
   "language": "python",
   "name": "python3"
  },
  "language_info": {
   "codemirror_mode": {
    "name": "ipython",
    "version": 3
   },
   "file_extension": ".py",
   "mimetype": "text/x-python",
   "name": "python",
   "nbconvert_exporter": "python",
   "pygments_lexer": "ipython3",
   "version": "3.7.4"
  }
 },
 "nbformat": 4,
 "nbformat_minor": 4
}
