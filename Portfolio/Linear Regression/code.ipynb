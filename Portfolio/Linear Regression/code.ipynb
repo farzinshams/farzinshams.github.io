{
 "cells": [
  {
   "cell_type": "code",
   "execution_count": 66,
   "metadata": {
    "collapsed": true
   },
   "outputs": [],
   "source": [
    "import numpy as np\n",
    "import pandas as pd\n",
    "import matplotlib.pyplot as plt\n",
    "import seaborn as sns\n",
    "import warnings\n",
    "warnings.filterwarnings('ignore')\n",
    "from sklearn.linear_model import SGDRegressor\n",
    "from sklearn.metrics import mean_squared_error\n",
    "import time\n",
    "%matplotlib inline"
   ]
  },
  {
   "cell_type": "code",
   "execution_count": 68,
   "metadata": {},
   "outputs": [
    {
     "name": "stdout",
     "output_type": "stream",
     "text": [
      "train shape: (45849, 10), test shape: (8091, 10), total shape: (53940, 10)\n",
      "(53940, 10)\n"
     ]
    }
   ],
   "source": [
    "df_train = pd.read_csv('./diamonds-train.csv')\n",
    "df_test = pd.read_csv('./diamonds-test.csv')\n",
    "ntrain = df_train.shape[0]\n",
    "df = pd.concat([df_train, df_test])\n",
    "print('train shape: {}, test shape: {}, total shape: {}'.format(df_train.shape, df_test.shape, df.shape))\n",
    "print(df.shape)"
   ]
  },
  {
   "cell_type": "code",
   "execution_count": 75,
   "metadata": {},
   "outputs": [
    {
     "data": {
      "text/html": [
       "<div>\n",
       "<style scoped>\n",
       "    .dataframe tbody tr th:only-of-type {\n",
       "        vertical-align: middle;\n",
       "    }\n",
       "\n",
       "    .dataframe tbody tr th {\n",
       "        vertical-align: top;\n",
       "    }\n",
       "\n",
       "    .dataframe thead th {\n",
       "        text-align: right;\n",
       "    }\n",
       "</style>\n",
       "<table border=\"1\" class=\"dataframe\">\n",
       "  <thead>\n",
       "    <tr style=\"text-align: right;\">\n",
       "      <th></th>\n",
       "      <th>carat</th>\n",
       "      <th>x</th>\n",
       "      <th>y</th>\n",
       "      <th>z</th>\n",
       "      <th>depth</th>\n",
       "      <th>table</th>\n",
       "      <th>price</th>\n",
       "    </tr>\n",
       "  </thead>\n",
       "  <tbody>\n",
       "    <tr>\n",
       "      <th>count</th>\n",
       "      <td>53940.000000</td>\n",
       "      <td>53940.000000</td>\n",
       "      <td>53940.000000</td>\n",
       "      <td>53940.000000</td>\n",
       "      <td>53940.000000</td>\n",
       "      <td>53940.000000</td>\n",
       "      <td>53940.000000</td>\n",
       "    </tr>\n",
       "    <tr>\n",
       "      <th>mean</th>\n",
       "      <td>0.797940</td>\n",
       "      <td>5.731157</td>\n",
       "      <td>5.734526</td>\n",
       "      <td>3.538734</td>\n",
       "      <td>61.749405</td>\n",
       "      <td>57.457184</td>\n",
       "      <td>3932.799722</td>\n",
       "    </tr>\n",
       "    <tr>\n",
       "      <th>std</th>\n",
       "      <td>0.474011</td>\n",
       "      <td>1.121761</td>\n",
       "      <td>1.142135</td>\n",
       "      <td>0.705699</td>\n",
       "      <td>1.432621</td>\n",
       "      <td>2.234491</td>\n",
       "      <td>3989.439738</td>\n",
       "    </tr>\n",
       "    <tr>\n",
       "      <th>min</th>\n",
       "      <td>0.200000</td>\n",
       "      <td>0.000000</td>\n",
       "      <td>0.000000</td>\n",
       "      <td>0.000000</td>\n",
       "      <td>43.000000</td>\n",
       "      <td>43.000000</td>\n",
       "      <td>326.000000</td>\n",
       "    </tr>\n",
       "    <tr>\n",
       "      <th>25%</th>\n",
       "      <td>0.400000</td>\n",
       "      <td>4.710000</td>\n",
       "      <td>4.720000</td>\n",
       "      <td>2.910000</td>\n",
       "      <td>61.000000</td>\n",
       "      <td>56.000000</td>\n",
       "      <td>950.000000</td>\n",
       "    </tr>\n",
       "    <tr>\n",
       "      <th>50%</th>\n",
       "      <td>0.700000</td>\n",
       "      <td>5.700000</td>\n",
       "      <td>5.710000</td>\n",
       "      <td>3.530000</td>\n",
       "      <td>61.800000</td>\n",
       "      <td>57.000000</td>\n",
       "      <td>2401.000000</td>\n",
       "    </tr>\n",
       "    <tr>\n",
       "      <th>75%</th>\n",
       "      <td>1.040000</td>\n",
       "      <td>6.540000</td>\n",
       "      <td>6.540000</td>\n",
       "      <td>4.040000</td>\n",
       "      <td>62.500000</td>\n",
       "      <td>59.000000</td>\n",
       "      <td>5324.250000</td>\n",
       "    </tr>\n",
       "    <tr>\n",
       "      <th>max</th>\n",
       "      <td>5.010000</td>\n",
       "      <td>10.740000</td>\n",
       "      <td>58.900000</td>\n",
       "      <td>31.800000</td>\n",
       "      <td>79.000000</td>\n",
       "      <td>95.000000</td>\n",
       "      <td>18823.000000</td>\n",
       "    </tr>\n",
       "  </tbody>\n",
       "</table>\n",
       "</div>"
      ],
      "text/plain": [
       "              carat             x             y             z         depth  \\\n",
       "count  53940.000000  53940.000000  53940.000000  53940.000000  53940.000000   \n",
       "mean       0.797940      5.731157      5.734526      3.538734     61.749405   \n",
       "std        0.474011      1.121761      1.142135      0.705699      1.432621   \n",
       "min        0.200000      0.000000      0.000000      0.000000     43.000000   \n",
       "25%        0.400000      4.710000      4.720000      2.910000     61.000000   \n",
       "50%        0.700000      5.700000      5.710000      3.530000     61.800000   \n",
       "75%        1.040000      6.540000      6.540000      4.040000     62.500000   \n",
       "max        5.010000     10.740000     58.900000     31.800000     79.000000   \n",
       "\n",
       "              table         price  \n",
       "count  53940.000000  53940.000000  \n",
       "mean      57.457184   3932.799722  \n",
       "std        2.234491   3989.439738  \n",
       "min       43.000000    326.000000  \n",
       "25%       56.000000    950.000000  \n",
       "50%       57.000000   2401.000000  \n",
       "75%       59.000000   5324.250000  \n",
       "max       95.000000  18823.000000  "
      ]
     },
     "execution_count": 75,
     "metadata": {},
     "output_type": "execute_result"
    }
   ],
   "source": [
    "df.describe()"
   ]
  },
  {
   "cell_type": "code",
   "execution_count": 76,
   "metadata": {
    "collapsed": true
   },
   "outputs": [],
   "source": [
    "# add constant feature and drop data where x == 0 or y == 0 or z == 0\n",
    "\n",
    "df['cst'] = 1\n",
    "df = df[(df[['x','y','z']] != 0).all(axis=1)]"
   ]
  },
  {
   "cell_type": "code",
   "execution_count": 77,
   "metadata": {
    "collapsed": true
   },
   "outputs": [],
   "source": [
    "#get feature's categories\n",
    "\n",
    "categorical_features = ['cut', 'color', 'clarity']\n",
    "numerical_features = [i for i in df.columns.values if i not in categorical_features]"
   ]
  },
  {
   "cell_type": "code",
   "execution_count": 78,
   "metadata": {
    "collapsed": true
   },
   "outputs": [],
   "source": [
    "#one-hot-encode categorical features and drop useless features\n",
    "\n",
    "df = df.join(pd.get_dummies(df[categorical_features], drop_first=True))\n",
    "df.drop(categorical_features, axis=1, inplace=True)"
   ]
  },
  {
   "cell_type": "code",
   "execution_count": 79,
   "metadata": {},
   "outputs": [
    {
     "data": {
      "image/png": "[encoded data removed]",
      "text/plain": [
       "<matplotlib.figure.Figure at 0x1a1a59c390>"
      ]
     },
     "metadata": {},
     "output_type": "display_data"
    }
   ],
   "source": [
    "# check numerical feature's distributions\n",
    "\n",
    "fig, ax = plt.subplots(1, len(numerical_features), figsize=(10,5))\n",
    "for idx, feature in enumerate(numerical_features):\n",
    "    sns.distplot(df[feature], ax=ax[idx])\n",
    "fig.show()"
   ]
  },
  {
   "cell_type": "code",
   "execution_count": 80,
   "metadata": {},
   "outputs": [
    {
     "data": {
      "image/png": "[encoded data removed]",
      "text/plain": [
       "<matplotlib.figure.Figure at 0x1a1aeedd68>"
      ]
     },
     "metadata": {},
     "output_type": "display_data"
    }
   ],
   "source": [
    "# apply log(y + 1) to normalize their distributions\n",
    "\n",
    "df[numerical_features] = df[numerical_features].apply(lambda x: np.log1p(x))\n",
    "\n",
    "fig, ax = plt.subplots(1, len(numerical_features), figsize=(10,5))\n",
    "for idx, feature in enumerate(numerical_features):\n",
    "    sns.distplot(df[feature], ax=ax[idx])\n",
    "fig.show()"
   ]
  },
  {
   "cell_type": "code",
   "execution_count": 81,
   "metadata": {},
   "outputs": [
    {
     "name": "stdout",
     "output_type": "stream",
     "text": [
      "(70090, 25)\n"
     ]
    },
    {
     "data": {
      "text/html": [
       "<div>\n",
       "<style scoped>\n",
       "    .dataframe tbody tr th:only-of-type {\n",
       "        vertical-align: middle;\n",
       "    }\n",
       "\n",
       "    .dataframe tbody tr th {\n",
       "        vertical-align: top;\n",
       "    }\n",
       "\n",
       "    .dataframe thead th {\n",
       "        text-align: right;\n",
       "    }\n",
       "</style>\n",
       "<table border=\"1\" class=\"dataframe\">\n",
       "  <thead>\n",
       "    <tr style=\"text-align: right;\">\n",
       "      <th></th>\n",
       "      <th>carat</th>\n",
       "      <th>x</th>\n",
       "      <th>y</th>\n",
       "      <th>z</th>\n",
       "      <th>depth</th>\n",
       "      <th>table</th>\n",
       "      <th>price</th>\n",
       "      <th>cst</th>\n",
       "      <th>cut_Good</th>\n",
       "      <th>cut_Ideal</th>\n",
       "      <th>...</th>\n",
       "      <th>color_H</th>\n",
       "      <th>color_I</th>\n",
       "      <th>color_J</th>\n",
       "      <th>clarity_IF</th>\n",
       "      <th>clarity_SI1</th>\n",
       "      <th>clarity_SI2</th>\n",
       "      <th>clarity_VS1</th>\n",
       "      <th>clarity_VS2</th>\n",
       "      <th>clarity_VVS1</th>\n",
       "      <th>clarity_VVS2</th>\n",
       "    </tr>\n",
       "  </thead>\n",
       "  <tbody>\n",
       "    <tr>\n",
       "      <th>0</th>\n",
       "      <td>0.963174</td>\n",
       "      <td>2.143589</td>\n",
       "      <td>2.149434</td>\n",
       "      <td>1.738710</td>\n",
       "      <td>4.144721</td>\n",
       "      <td>4.025352</td>\n",
       "      <td>9.259321</td>\n",
       "      <td>0.693147</td>\n",
       "      <td>0</td>\n",
       "      <td>1</td>\n",
       "      <td>...</td>\n",
       "      <td>0</td>\n",
       "      <td>1</td>\n",
       "      <td>0</td>\n",
       "      <td>0</td>\n",
       "      <td>0</td>\n",
       "      <td>0</td>\n",
       "      <td>0</td>\n",
       "      <td>1</td>\n",
       "      <td>0</td>\n",
       "      <td>0</td>\n",
       "    </tr>\n",
       "    <tr>\n",
       "      <th>0</th>\n",
       "      <td>0.963174</td>\n",
       "      <td>2.143589</td>\n",
       "      <td>2.149434</td>\n",
       "      <td>1.738710</td>\n",
       "      <td>4.144721</td>\n",
       "      <td>4.025352</td>\n",
       "      <td>9.259321</td>\n",
       "      <td>0.693147</td>\n",
       "      <td>0</td>\n",
       "      <td>1</td>\n",
       "      <td>...</td>\n",
       "      <td>0</td>\n",
       "      <td>0</td>\n",
       "      <td>0</td>\n",
       "      <td>0</td>\n",
       "      <td>0</td>\n",
       "      <td>0</td>\n",
       "      <td>1</td>\n",
       "      <td>0</td>\n",
       "      <td>0</td>\n",
       "      <td>0</td>\n",
       "    </tr>\n",
       "    <tr>\n",
       "      <th>0</th>\n",
       "      <td>0.438255</td>\n",
       "      <td>1.834180</td>\n",
       "      <td>1.838961</td>\n",
       "      <td>1.444563</td>\n",
       "      <td>4.135167</td>\n",
       "      <td>4.043051</td>\n",
       "      <td>7.705713</td>\n",
       "      <td>0.693147</td>\n",
       "      <td>0</td>\n",
       "      <td>1</td>\n",
       "      <td>...</td>\n",
       "      <td>0</td>\n",
       "      <td>1</td>\n",
       "      <td>0</td>\n",
       "      <td>0</td>\n",
       "      <td>0</td>\n",
       "      <td>0</td>\n",
       "      <td>0</td>\n",
       "      <td>1</td>\n",
       "      <td>0</td>\n",
       "      <td>0</td>\n",
       "    </tr>\n",
       "    <tr>\n",
       "      <th>0</th>\n",
       "      <td>0.438255</td>\n",
       "      <td>1.834180</td>\n",
       "      <td>1.838961</td>\n",
       "      <td>1.444563</td>\n",
       "      <td>4.135167</td>\n",
       "      <td>4.043051</td>\n",
       "      <td>7.705713</td>\n",
       "      <td>0.693147</td>\n",
       "      <td>0</td>\n",
       "      <td>1</td>\n",
       "      <td>...</td>\n",
       "      <td>0</td>\n",
       "      <td>0</td>\n",
       "      <td>0</td>\n",
       "      <td>0</td>\n",
       "      <td>0</td>\n",
       "      <td>0</td>\n",
       "      <td>1</td>\n",
       "      <td>0</td>\n",
       "      <td>0</td>\n",
       "      <td>0</td>\n",
       "    </tr>\n",
       "    <tr>\n",
       "      <th>1</th>\n",
       "      <td>0.262364</td>\n",
       "      <td>1.684545</td>\n",
       "      <td>1.677097</td>\n",
       "      <td>1.272566</td>\n",
       "      <td>4.091006</td>\n",
       "      <td>4.110874</td>\n",
       "      <td>6.354370</td>\n",
       "      <td>0.693147</td>\n",
       "      <td>0</td>\n",
       "      <td>0</td>\n",
       "      <td>...</td>\n",
       "      <td>0</td>\n",
       "      <td>0</td>\n",
       "      <td>0</td>\n",
       "      <td>0</td>\n",
       "      <td>1</td>\n",
       "      <td>0</td>\n",
       "      <td>0</td>\n",
       "      <td>0</td>\n",
       "      <td>0</td>\n",
       "      <td>0</td>\n",
       "    </tr>\n",
       "    <tr>\n",
       "      <th>1</th>\n",
       "      <td>0.262364</td>\n",
       "      <td>1.684545</td>\n",
       "      <td>1.677097</td>\n",
       "      <td>1.272566</td>\n",
       "      <td>4.091006</td>\n",
       "      <td>4.110874</td>\n",
       "      <td>6.354370</td>\n",
       "      <td>0.693147</td>\n",
       "      <td>0</td>\n",
       "      <td>0</td>\n",
       "      <td>...</td>\n",
       "      <td>1</td>\n",
       "      <td>0</td>\n",
       "      <td>0</td>\n",
       "      <td>0</td>\n",
       "      <td>0</td>\n",
       "      <td>0</td>\n",
       "      <td>0</td>\n",
       "      <td>1</td>\n",
       "      <td>0</td>\n",
       "      <td>0</td>\n",
       "    </tr>\n",
       "    <tr>\n",
       "      <th>1</th>\n",
       "      <td>0.792993</td>\n",
       "      <td>2.041220</td>\n",
       "      <td>2.036012</td>\n",
       "      <td>1.669592</td>\n",
       "      <td>4.182050</td>\n",
       "      <td>4.043051</td>\n",
       "      <td>8.525558</td>\n",
       "      <td>0.693147</td>\n",
       "      <td>0</td>\n",
       "      <td>0</td>\n",
       "      <td>...</td>\n",
       "      <td>0</td>\n",
       "      <td>0</td>\n",
       "      <td>0</td>\n",
       "      <td>0</td>\n",
       "      <td>1</td>\n",
       "      <td>0</td>\n",
       "      <td>0</td>\n",
       "      <td>0</td>\n",
       "      <td>0</td>\n",
       "      <td>0</td>\n",
       "    </tr>\n",
       "    <tr>\n",
       "      <th>1</th>\n",
       "      <td>0.792993</td>\n",
       "      <td>2.041220</td>\n",
       "      <td>2.036012</td>\n",
       "      <td>1.669592</td>\n",
       "      <td>4.182050</td>\n",
       "      <td>4.043051</td>\n",
       "      <td>8.525558</td>\n",
       "      <td>0.693147</td>\n",
       "      <td>0</td>\n",
       "      <td>0</td>\n",
       "      <td>...</td>\n",
       "      <td>1</td>\n",
       "      <td>0</td>\n",
       "      <td>0</td>\n",
       "      <td>0</td>\n",
       "      <td>0</td>\n",
       "      <td>0</td>\n",
       "      <td>0</td>\n",
       "      <td>1</td>\n",
       "      <td>0</td>\n",
       "      <td>0</td>\n",
       "    </tr>\n",
       "    <tr>\n",
       "      <th>2</th>\n",
       "      <td>0.862890</td>\n",
       "      <td>2.113843</td>\n",
       "      <td>2.106570</td>\n",
       "      <td>1.671473</td>\n",
       "      <td>4.104295</td>\n",
       "      <td>4.060443</td>\n",
       "      <td>9.363061</td>\n",
       "      <td>0.693147</td>\n",
       "      <td>0</td>\n",
       "      <td>1</td>\n",
       "      <td>...</td>\n",
       "      <td>0</td>\n",
       "      <td>0</td>\n",
       "      <td>0</td>\n",
       "      <td>0</td>\n",
       "      <td>0</td>\n",
       "      <td>0</td>\n",
       "      <td>1</td>\n",
       "      <td>0</td>\n",
       "      <td>0</td>\n",
       "      <td>0</td>\n",
       "    </tr>\n",
       "    <tr>\n",
       "      <th>2</th>\n",
       "      <td>0.862890</td>\n",
       "      <td>2.113843</td>\n",
       "      <td>2.106570</td>\n",
       "      <td>1.671473</td>\n",
       "      <td>4.104295</td>\n",
       "      <td>4.060443</td>\n",
       "      <td>9.363061</td>\n",
       "      <td>0.693147</td>\n",
       "      <td>0</td>\n",
       "      <td>0</td>\n",
       "      <td>...</td>\n",
       "      <td>0</td>\n",
       "      <td>0</td>\n",
       "      <td>0</td>\n",
       "      <td>0</td>\n",
       "      <td>1</td>\n",
       "      <td>0</td>\n",
       "      <td>0</td>\n",
       "      <td>0</td>\n",
       "      <td>0</td>\n",
       "      <td>0</td>\n",
       "    </tr>\n",
       "  </tbody>\n",
       "</table>\n",
       "<p>10 rows × 25 columns</p>\n",
       "</div>"
      ],
      "text/plain": [
       "      carat         x         y         z     depth     table     price  \\\n",
       "0  0.963174  2.143589  2.149434  1.738710  4.144721  4.025352  9.259321   \n",
       "0  0.963174  2.143589  2.149434  1.738710  4.144721  4.025352  9.259321   \n",
       "0  0.438255  1.834180  1.838961  1.444563  4.135167  4.043051  7.705713   \n",
       "0  0.438255  1.834180  1.838961  1.444563  4.135167  4.043051  7.705713   \n",
       "1  0.262364  1.684545  1.677097  1.272566  4.091006  4.110874  6.354370   \n",
       "1  0.262364  1.684545  1.677097  1.272566  4.091006  4.110874  6.354370   \n",
       "1  0.792993  2.041220  2.036012  1.669592  4.182050  4.043051  8.525558   \n",
       "1  0.792993  2.041220  2.036012  1.669592  4.182050  4.043051  8.525558   \n",
       "2  0.862890  2.113843  2.106570  1.671473  4.104295  4.060443  9.363061   \n",
       "2  0.862890  2.113843  2.106570  1.671473  4.104295  4.060443  9.363061   \n",
       "\n",
       "        cst  cut_Good  cut_Ideal      ...       color_H  color_I  color_J  \\\n",
       "0  0.693147         0          1      ...             0        1        0   \n",
       "0  0.693147         0          1      ...             0        0        0   \n",
       "0  0.693147         0          1      ...             0        1        0   \n",
       "0  0.693147         0          1      ...             0        0        0   \n",
       "1  0.693147         0          0      ...             0        0        0   \n",
       "1  0.693147         0          0      ...             1        0        0   \n",
       "1  0.693147         0          0      ...             0        0        0   \n",
       "1  0.693147         0          0      ...             1        0        0   \n",
       "2  0.693147         0          1      ...             0        0        0   \n",
       "2  0.693147         0          0      ...             0        0        0   \n",
       "\n",
       "   clarity_IF  clarity_SI1  clarity_SI2  clarity_VS1  clarity_VS2  \\\n",
       "0           0            0            0            0            1   \n",
       "0           0            0            0            1            0   \n",
       "0           0            0            0            0            1   \n",
       "0           0            0            0            1            0   \n",
       "1           0            1            0            0            0   \n",
       "1           0            0            0            0            1   \n",
       "1           0            1            0            0            0   \n",
       "1           0            0            0            0            1   \n",
       "2           0            0            0            1            0   \n",
       "2           0            1            0            0            0   \n",
       "\n",
       "   clarity_VVS1  clarity_VVS2  \n",
       "0             0             0  \n",
       "0             0             0  \n",
       "0             0             0  \n",
       "0             0             0  \n",
       "1             0             0  \n",
       "1             0             0  \n",
       "1             0             0  \n",
       "1             0             0  \n",
       "2             0             0  \n",
       "2             0             0  \n",
       "\n",
       "[10 rows x 25 columns]"
      ]
     },
     "execution_count": 81,
     "metadata": {},
     "output_type": "execute_result"
    }
   ],
   "source": [
    "# resulting dataframe\n",
    "\n",
    "print(df.shape)\n",
    "df.head(10)"
   ]
  },
  {
   "cell_type": "code",
   "execution_count": 82,
   "metadata": {},
   "outputs": [
    {
     "data": {
      "text/plain": [
       "((45849, 24), (45849,), (24241, 24), (24241,))"
      ]
     },
     "execution_count": 82,
     "metadata": {},
     "output_type": "execute_result"
    }
   ],
   "source": [
    "# split data\n",
    "\n",
    "X_train = df.drop('price', axis=1).values[:ntrain]\n",
    "y_train = df['price'].values[:ntrain]\n",
    "X_test = df.drop('price', axis=1).values[ntrain:]\n",
    "y_test = df['price'].values[ntrain:]\n",
    "\n",
    "X_train.shape, y_train.shape, X_test.shape, y_test.shape"
   ]
  },
  {
   "cell_type": "markdown",
   "metadata": {},
   "source": [
    "# SGDRegressor"
   ]
  },
  {
   "cell_type": "code",
   "execution_count": 102,
   "metadata": {},
   "outputs": [
    {
     "name": "stdout",
     "output_type": "stream",
     "text": [
      "SGDRegressor RMSE: 2724.94\n"
     ]
    }
   ],
   "source": [
    "from sklearn.linear_model import SGDRegressor\n",
    "\n",
    "model_sgd = SGDRegressor()\n",
    "model_sgd.fit(X_train, y_train)\n",
    "\n",
    "rmse = mean_squared_error(np.expm1(model_sgd.predict(X_test)), np.expm1(y_test))**0.5\n",
    "print('SGDRegressor RMSE: %0.2f' % rmse)"
   ]
  },
  {
   "cell_type": "code",
   "execution_count": 103,
   "metadata": {},
   "outputs": [
    {
     "data": {
      "text/plain": [
       "array([ 10232.71564363,    673.41090977,   1245.17011535, ...,\n",
       "         1419.33439968,   3129.15058663,   3260.57584916])"
      ]
     },
     "execution_count": 103,
     "metadata": {},
     "output_type": "execute_result"
    }
   ],
   "source": [
    "np.expm1(model_sgd.predict(X_test))"
   ]
  },
  {
   "cell_type": "code",
   "execution_count": 104,
   "metadata": {},
   "outputs": [
    {
     "data": {
      "text/plain": [
       "array([ 9483.,   769.,  1241., ...,  1144.,  3389.,  3630.])"
      ]
     },
     "execution_count": 104,
     "metadata": {},
     "output_type": "execute_result"
    }
   ],
   "source": [
    "np.expm1(y_test)"
   ]
  },
  {
   "cell_type": "markdown",
   "metadata": {},
   "source": [
    "# Linear gd"
   ]
  },
  {
   "cell_type": "code",
   "execution_count": 86,
   "metadata": {
    "collapsed": true
   },
   "outputs": [],
   "source": [
    "lr = 0.001"
   ]
  },
  {
   "cell_type": "code",
   "execution_count": 87,
   "metadata": {
    "collapsed": true,
    "scrolled": true
   },
   "outputs": [],
   "source": [
    "def linear_gd():\n",
    "    iterations = 10000\n",
    "    w = np.zeros(X_train.shape[1])\n",
    "\n",
    "    loss_train = []\n",
    "    loss_test = []\n",
    "    \n",
    "    start = time.time()\n",
    "    for i in range(iterations):\n",
    "        y_pred_train = np.dot(X_train, w)\n",
    "        error_train = mean_squared_error(np.expm1(y_train), np.expm1(y_pred_train))**0.5\n",
    "        loss_train.append(error_train)\n",
    "\n",
    "        y_pred_test = np.dot(X_test, w)\n",
    "        error_test = mean_squared_error(np.expm1(y_test), np.expm1(y_pred_test))**0.5\n",
    "        loss_test.append(error_test)\n",
    "\n",
    "        grad_cost = 2*np.dot(np.transpose(X_train), y_pred_train - y_train)/X_train.shape[0]\n",
    "\n",
    "        w = w - lr * grad_cost\n",
    "\n",
    "        if (i%50 == 0):\n",
    "            print('iteration: {}, error_test: {}'.format(i, error_test))\n",
    "            \n",
    "    end = time.time()\n",
    "    print('time elapsed: {}'.format(end - start))\n",
    "    return loss_train, loss_test"
   ]
  },
  {
   "cell_type": "code",
   "execution_count": 61,
   "metadata": {
    "scrolled": false
   },
   "outputs": [
    {
     "name": "stdout",
     "output_type": "stream",
     "text": [
      "iteration: 0, error_test: 5609.126490452116\n",
      "iteration: 50, error_test: 3960.133019659207\n",
      "iteration: 100, error_test: 3838.4411530517546\n",
      "iteration: 150, error_test: 3814.5197530298597\n",
      "iteration: 200, error_test: 3791.6133609542226\n",
      "iteration: 250, error_test: 3768.7846035150937\n",
      "iteration: 300, error_test: 3746.0247342556154\n",
      "iteration: 350, error_test: 3723.3341547275486\n",
      "iteration: 400, error_test: 3700.713555822081\n",
      "iteration: 450, error_test: 3678.163813118448\n",
      "iteration: 500, error_test: 3655.685968125477\n",
      "iteration: 550, error_test: 3633.2812119698797\n",
      "iteration: 600, error_test: 3610.950870568404\n",
      "iteration: 650, error_test: 3588.696391130161\n",
      "iteration: 700, error_test: 3566.5193298583954\n",
      "iteration: 750, error_test: 3544.4213407346665\n",
      "iteration: 800, error_test: 3522.4041652806104\n",
      "iteration: 850, error_test: 3500.4696232031542\n",
      "iteration: 900, error_test: 3478.6196038386565\n",
      "iteration: 950, error_test: 3456.8560583200297\n",
      "iteration: 1000, error_test: 3435.1809923984756\n",
      "iteration: 1050, error_test: 3413.59645985823\n",
      "iteration: 1100, error_test: 3392.1045564688698\n",
      "iteration: 1150, error_test: 3370.707414425041\n",
      "iteration: 1200, error_test: 3349.4071972284128\n",
      "iteration: 1250, error_test: 3328.2060949709694\n",
      "iteration: 1300, error_test: 3307.1063199826335\n",
      "iteration: 1350, error_test: 3286.1101028097455\n",
      "iteration: 1400, error_test: 3265.2196884940327\n",
      "iteration: 1450, error_test: 3244.4373331245274\n",
      "iteration: 1500, error_test: 3223.765300637485\n",
      "iteration: 1550, error_test: 3203.205859841499\n",
      "iteration: 1600, error_test: 3182.7612816472943\n",
      "iteration: 1650, error_test: 3162.4338364833043\n",
      "iteration: 1700, error_test: 3142.2257918799824\n",
      "iteration: 1750, error_test: 3122.139410207263\n",
      "iteration: 1800, error_test: 3102.176946550943\n",
      "iteration: 1850, error_test: 3082.3406467150294\n",
      "iteration: 1900, error_test: 3062.632745338256\n",
      "iteration: 1950, error_test: 3043.0554641139265\n",
      "iteration: 2000, error_test: 3023.6110101032405\n",
      "iteration: 2050, error_test: 3004.30157413309\n",
      "iteration: 2100, error_test: 2985.1293292701152\n",
      "iteration: 2150, error_test: 2966.096429363456\n",
      "iteration: 2200, error_test: 2947.2050076493874\n",
      "iteration: 2250, error_test: 2928.4571754115104\n",
      "iteration: 2300, error_test: 2909.8550206908235\n",
      "iteration: 2350, error_test: 2891.4006070404544\n",
      "iteration: 2400, error_test: 2873.095972320283\n",
      "iteration: 2450, error_test: 2854.943127527162\n",
      "iteration: 2500, error_test: 2836.9440556568284\n",
      "iteration: 2550, error_test: 2819.1007105939675\n",
      "iteration: 2600, error_test: 2801.4150160272216\n",
      "iteration: 2650, error_test: 2783.88886438631\n",
      "iteration: 2700, error_test: 2766.5241157986866\n",
      "iteration: 2750, error_test: 2749.322597063483\n",
      "iteration: 2800, error_test: 2732.2861006407225\n",
      "iteration: 2850, error_test: 2715.416383654086\n",
      "iteration: 2900, error_test: 2698.7151669057203\n",
      "iteration: 2950, error_test: 2682.1841339018433\n",
      "iteration: 3000, error_test: 2665.824929888098\n",
      "iteration: 3050, error_test: 2649.63916089382\n",
      "iteration: 3100, error_test: 2633.628392784604\n",
      "iteration: 3150, error_test: 2617.794150322745\n",
      "iteration: 3200, error_test: 2602.137916235295\n",
      "iteration: 3250, error_test: 2586.661130289676\n",
      "iteration: 3300, error_test: 2571.365188376977\n",
      "iteration: 3350, error_test: 2556.251441603199\n",
      "iteration: 3400, error_test: 2541.321195388867\n",
      "iteration: 3450, error_test: 2526.5757085776454\n",
      "iteration: 3500, error_test: 2512.016192554675\n",
      "iteration: 3550, error_test: 2497.643810375483\n",
      "iteration: 3600, error_test: 2483.4596759065776\n",
      "iteration: 3650, error_test: 2469.4648529787432\n",
      "iteration: 3700, error_test: 2455.6603545544567\n",
      "iteration: 3750, error_test: 2442.0471419106834\n",
      "iteration: 3800, error_test: 2428.626123838663\n",
      "iteration: 3850, error_test: 2415.3981558621813\n",
      "iteration: 3900, error_test: 2402.364039476125\n",
      "iteration: 3950, error_test: 2389.5245214070214\n",
      "iteration: 4000, error_test: 2376.8802928974687\n",
      "iteration: 4050, error_test: 2364.4319890163843\n",
      "iteration: 4100, error_test: 2352.180187996998\n",
      "iteration: 4150, error_test: 2340.125410604752\n",
      "iteration: 4200, error_test: 2328.2681195370333\n",
      "iteration: 4250, error_test: 2316.6087188569627\n",
      "iteration: 4300, error_test: 2305.147553463314\n",
      "iteration: 4350, error_test: 2293.8849085986976\n",
      "iteration: 4400, error_test: 2282.821009398137\n",
      "iteration: 4450, error_test: 2271.9560204801605\n",
      "iteration: 4500, error_test: 2261.290045582469\n",
      "iteration: 4550, error_test: 2250.823127244247\n",
      "iteration: 4600, error_test: 2240.555246537086\n",
      "iteration: 4650, error_test: 2230.4863228464556\n",
      "iteration: 4700, error_test: 2220.616213705569\n",
      "iteration: 4750, error_test: 2210.944714683412\n",
      "iteration: 4800, error_test: 2201.471559328585\n",
      "iteration: 4850, error_test: 2192.1964191705156\n",
      "iteration: 4900, error_test: 2183.11890377947\n",
      "iteration: 4950, error_test: 2174.238560886653\n",
      "iteration: 5000, error_test: 2165.5548765655526\n",
      "iteration: 5050, error_test: 2157.067275475549\n",
      "iteration: 5100, error_test: 2148.775121168565\n",
      "iteration: 5150, error_test: 2140.6777164595237\n",
      "iteration: 5200, error_test: 2132.774303861016\n",
      "iteration: 5250, error_test: 2125.0640660825525\n",
      "iteration: 5300, error_test: 2117.5461265944973\n",
      "iteration: 5350, error_test: 2110.219550256618\n",
      "iteration: 5400, error_test: 2103.0833440109996\n",
      "iteration: 5450, error_test: 2096.1364576388637\n",
      "iteration: 5500, error_test: 2089.377784580632\n",
      "iteration: 5550, error_test: 2082.8061628183737\n",
      "iteration: 5600, error_test: 2076.420375819597\n",
      "iteration: 5650, error_test: 2070.2191535411434\n",
      "iteration: 5700, error_test: 2064.201173491729\n",
      "iteration: 5750, error_test: 2058.365061851541\n",
      "iteration: 5800, error_test: 2052.7093946470563\n",
      "iteration: 5850, error_test: 2047.232698979133\n",
      "iteration: 5900, error_test: 2041.9334543022146\n",
      "iteration: 5950, error_test: 2036.8100937523714\n",
      "iteration: 6000, error_test: 2031.8610055217052\n",
      "iteration: 6050, error_test: 2027.0845342765572\n",
      "iteration: 6100, error_test: 2022.4789826168137\n",
      "iteration: 6150, error_test: 2018.0426125734584\n",
      "iteration: 6200, error_test: 2013.7736471414873\n",
      "iteration: 6250, error_test: 2009.6702718451302\n",
      "iteration: 6300, error_test: 2005.730636332336\n",
      "iteration: 6350, error_test: 2001.9528559953087\n",
      "iteration: 6400, error_test: 1998.3350136139713\n",
      "iteration: 6450, error_test: 1994.8751610190386\n",
      "iteration: 6500, error_test: 1991.5713207714896\n",
      "iteration: 6550, error_test: 1988.421487855161\n",
      "iteration: 6600, error_test: 1985.4236313791966\n",
      "iteration: 6650, error_test: 1982.575696287103\n",
      "iteration: 6700, error_test: 1979.875605069187\n",
      "iteration: 6750, error_test: 1977.3212594752324\n",
      "iteration: 6800, error_test: 1974.9105422242658\n",
      "iteration: 6850, error_test: 1972.641318708361\n",
      "iteration: 6900, error_test: 1970.5114386875302\n",
      "iteration: 6950, error_test: 1968.5187379727622\n",
      "iteration: 7000, error_test: 1966.661040094453\n",
      "iteration: 7050, error_test: 1964.9361579535098\n",
      "iteration: 7100, error_test: 1963.3418954525366\n",
      "iteration: 7150, error_test: 1961.876049104641\n",
      "iteration: 7200, error_test: 1960.5364096175203\n",
      "iteration: 7250, error_test: 1959.3207634505889\n",
      "iteration: 7300, error_test: 1958.2268943430659\n",
      "iteration: 7350, error_test: 1957.252584811092\n",
      "iteration: 7400, error_test: 1956.3956176120025\n",
      "iteration: 7450, error_test: 1955.6537771741603\n",
      "iteration: 7500, error_test: 1955.0248509907403\n",
      "iteration: 7550, error_test: 1954.506630976114\n",
      "iteration: 7600, error_test: 1954.0969147835688\n",
      "iteration: 7650, error_test: 1953.7935070832384\n",
      "iteration: 7700, error_test: 1953.5942207993053\n",
      "iteration: 7750, error_test: 1953.4968783055701\n",
      "iteration: 7800, error_test: 1953.4993125787553\n",
      "iteration: 7850, error_test: 1953.5993683089068\n",
      "iteration: 7900, error_test: 1953.794902966498\n",
      "iteration: 7950, error_test: 1954.0837878258421\n",
      "iteration: 8000, error_test: 1954.4639089446814\n",
      "iteration: 8050, error_test: 1954.933168099788\n",
      "iteration: 8100, error_test: 1955.4894836786355\n",
      "iteration: 8150, error_test: 1956.130791527233\n",
      "iteration: 8200, error_test: 1956.8550457543497\n",
      "iteration: 8250, error_test: 1957.6602194924192\n",
      "iteration: 8300, error_test: 1958.5443056155457\n",
      "iteration: 8350, error_test: 1959.5053174150455\n",
      "iteration: 8400, error_test: 1960.5412892331237\n",
      "iteration: 8450, error_test: 1961.6502770552638\n",
      "iteration: 8500, error_test: 1962.830359062036\n",
      "iteration: 8550, error_test: 1964.0796361410848\n",
      "iteration: 8600, error_test: 1965.3962323600424\n"
     ]
    },
    {
     "name": "stdout",
     "output_type": "stream",
     "text": [
      "iteration: 8650, error_test: 1966.7782954012848\n",
      "iteration: 8700, error_test: 1968.2239969593554\n",
      "iteration: 8750, error_test: 1969.7315331020295\n",
      "iteration: 8800, error_test: 1971.2991245959588\n",
      "iteration: 8850, error_test: 1972.9250171978863\n",
      "iteration: 8900, error_test: 1974.60748191246\n",
      "iteration: 8950, error_test: 1976.3448152176657\n",
      "iteration: 9000, error_test: 1978.135339258924\n",
      "iteration: 9050, error_test: 1979.9774020129387\n",
      "iteration: 9100, error_test: 1981.8693774223311\n",
      "iteration: 9150, error_test: 1983.8096655021618\n",
      "iteration: 9200, error_test: 1985.7966924194031\n",
      "iteration: 9250, error_test: 1987.8289105464369\n",
      "iteration: 9300, error_test: 1989.904798489651\n",
      "iteration: 9350, error_test: 1992.0228610941895\n",
      "iteration: 9400, error_test: 1994.1816294259215\n",
      "iteration: 9450, error_test: 1996.3796607316556\n",
      "iteration: 9500, error_test: 1998.615538378642\n",
      "iteration: 9550, error_test: 2000.8878717743505\n",
      "iteration: 9600, error_test: 2003.1952962675593\n",
      "iteration: 9650, error_test: 2005.5364730316846\n",
      "iteration: 9700, error_test: 2007.9100889313377\n",
      "iteration: 9750, error_test: 2010.3148563730365\n",
      "iteration: 9800, error_test: 2012.7495131409803\n",
      "iteration: 9850, error_test: 2015.212822218779\n",
      "iteration: 9900, error_test: 2017.7035715980028\n",
      "iteration: 9950, error_test: 2020.220574074406\n",
      "time elapsed: 178.61774277687073\n"
     ]
    }
   ],
   "source": [
    "loss_train, loss_test = linear_gd()"
   ]
  },
  {
   "cell_type": "code",
   "execution_count": 64,
   "metadata": {},
   "outputs": [
    {
     "name": "stdout",
     "output_type": "stream",
     "text": [
      "GD Min RMSE: 1953.49\n"
     ]
    }
   ],
   "source": [
    "print('GD Min RMSE: %0.2f' % min(loss_test))"
   ]
  },
  {
   "cell_type": "code",
   "execution_count": 88,
   "metadata": {},
   "outputs": [
    {
     "data": {
      "image/png": "[encoded data removed]",
      "text/plain": [
       "<matplotlib.figure.Figure at 0x1a1a530b00>"
      ]
     },
     "metadata": {},
     "output_type": "display_data"
    }
   ],
   "source": [
    "line1, = plt.plot(loss_train[50:])\n",
    "line2, = plt.plot(loss_test[50:])\n",
    "plt.axvline(x=np.argmin(np.array(loss_test[50:])), ls='--', linewidth='0.8')\n",
    "plt.legend((line1, line2), ('Train set', 'Test set'), fontsize=13)\n",
    "plt.text(800, 3000, 'Min Test RMSE: %0.2f' % min(loss_test))\n",
    "plt.title('GD with Learning rate = {}'.format(lr))\n",
    "plt.ylabel('Error (RMSE)')\n",
    "plt.xlabel('Training Epoch')\n",
    "plt.show()"
   ]
  },
  {
   "cell_type": "markdown",
   "metadata": {},
   "source": [
    "# Normal Equation"
   ]
  },
  {
   "cell_type": "code",
   "execution_count": 89,
   "metadata": {
    "collapsed": true
   },
   "outputs": [],
   "source": [
    "w = np.dot(np.linalg.pinv(X_train), y_train)\n",
    "y_pred_test = np.dot(X_test, w)\n",
    "rmse = mean_squared_error(np.expm1(y_test), np.expm1(y_pred_test))**0.5"
   ]
  },
  {
   "cell_type": "code",
   "execution_count": 90,
   "metadata": {},
   "outputs": [
    {
     "name": "stdout",
     "output_type": "stream",
     "text": [
      "Normal Equation RMSE: 1287.52\n"
     ]
    }
   ],
   "source": [
    "print('Normal Equation RMSE: %0.2f' % rmse)"
   ]
  },
  {
   "cell_type": "code",
   "execution_count": null,
   "metadata": {
    "collapsed": true
   },
   "outputs": [],
   "source": []
  }
 ],
 "metadata": {
  "kernelspec": {
   "display_name": "Python [default]",
   "language": "python",
   "name": "python3"
  },
  "language_info": {
   "codemirror_mode": {
    "name": "ipython",
    "version": 3
   },
   "file_extension": ".py",
   "mimetype": "text/x-python",
   "name": "python",
   "nbconvert_exporter": "python",
   "pygments_lexer": "ipython3",
   "version": "3.6.3"
  }
 },
 "nbformat": 4,
 "nbformat_minor": 2
}
