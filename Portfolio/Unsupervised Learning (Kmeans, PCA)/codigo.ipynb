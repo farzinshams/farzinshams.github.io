{
 "cells": [
  {
   "cell_type": "code",
   "execution_count": 2,
   "metadata": {
    "collapsed": true
   },
   "outputs": [],
   "source": [
    "import numpy as np\n",
    "import pandas as pd\n",
    "import gc\n",
    "import matplotlib.pyplot as plt\n",
    "from scipy import stats\n",
    "from scipy.spatial.distance import euclidean\n",
    "%matplotlib inline"
   ]
  },
  {
   "cell_type": "code",
   "execution_count": 3,
   "metadata": {},
   "outputs": [
    {
     "data": {
      "text/plain": [
       "0"
      ]
     },
     "execution_count": 3,
     "metadata": {},
     "output_type": "execute_result"
    }
   ],
   "source": [
    "gc.collect()"
   ]
  },
  {
   "cell_type": "code",
   "execution_count": 4,
   "metadata": {},
   "outputs": [
    {
     "name": "stdout",
     "output_type": "stream",
     "text": [
      "w2c shape: (12791, 128)\n",
      "text shape: (12791, 3)\n"
     ]
    }
   ],
   "source": [
    "df_w2v = pd.read_csv('./word2vec.csv', header=None) #shape: (13228, 128), values: [-0.27492, 0.238215]\n",
    "\n",
    "# https://stackoverflow.com/questions/23199796/detect-and-exclude-outliers-in-pandas-dataframe\n",
    "# df_bags = df_bags[(np.abs(stats.zscore(df_bags)) < 3).all(axis=1)]\n",
    "\n",
    "original_indexes = df_w2v.index.values\n",
    "df_w2v = df_w2v[(np.abs(stats.zscore(df_w2v)) < 4).all(axis=1)]\n",
    "final_indexes = df_w2v.index.values\n",
    "removed_indices = [i for i in original_indexes if i not in final_indexes]\n",
    "\n",
    "X_w2v = df_w2v.values\n",
    "\n",
    "#Get text\n",
    "text = pd.read_csv('health.txt', sep=\"|\", skiprows=removed_indices)\n",
    "\n",
    "# print(X_bags.shape)\n",
    "print('w2c shape: {}'.format(X_w2v.shape))\n",
    "print('text shape: {}'.format(text.shape))"
   ]
  },
  {
   "cell_type": "code",
   "execution_count": 5,
   "metadata": {
    "collapsed": true
   },
   "outputs": [],
   "source": [
    "#compute SSE\n",
    "def J(medoids, labels, data):\n",
    "    cost = 0\n",
    "    for i in range(len(data)):\n",
    "        cost += euclidean(medoids[labels[i]], data[i])**2\n",
    "    return cost\n",
    "\n",
    "#For a given data point, iterate through medoids to find the closest one\n",
    "def closest_centroid(medoids, data_point, return_value='index'):\n",
    "    min_dist = np.inf\n",
    "    best_index = 0\n",
    "    for i in range(len(medoids)):\n",
    "        dist = euclidean(medoids[i], data_point)\n",
    "        if (dist < min_dist):\n",
    "            min_dist = dist\n",
    "            best_index = i\n",
    "    if (return_value == 'index'):\n",
    "        return best_index\n",
    "    else:\n",
    "        return min_dist\n",
    "\n",
    "#Choose each point at random, with probability proportional to its squared distance from the centers already chosen.\n",
    "def initialization(K, data):\n",
    "    n_data, n_features = data.shape\n",
    "    minn, maxx = data.min().min(), data.max().max()\n",
    "    medoids = np.zeros(shape=(K, n_features))\n",
    "    medoids[0] = data[np.random.randint(0, len(data))]\n",
    "    distance = np.zeros(len(data))\n",
    "    for i in range(1,K):\n",
    "        for data_idx, data_point in enumerate(data):\n",
    "            distance[data_idx] = closest_centroid(medoids[0:i], data_point, return_value='distance')**2\n",
    "        prob_limit = np.random.uniform(0, np.sum(distance))\n",
    "        summ = 0\n",
    "        for ix, element in enumerate(distance):\n",
    "            summ += element\n",
    "            if (summ > prob_limit):\n",
    "                medoids[i] = data[ix]\n",
    "                break\n",
    "        print('Current centroid: {}'.format(i))\n",
    "    return medoids\n",
    "    \n",
    "#Kmeans++\n",
    "def kmeansplusplus(K, data):\n",
    "    n_data, n_features = data.shape\n",
    "    medoids = initialization(K, data)\n",
    "    labels = np.zeros(n_data, dtype=int)\n",
    "    loss = [np.inf]\n",
    "\n",
    "    for it in range(max_iterations):\n",
    "        for data_idx, data_point in enumerate(data):\n",
    "            labels[data_idx] = closest_centroid(medoids, data_point)\n",
    "        for medoid_idx in range(len(medoids)):\n",
    "            ci = np.where(labels == medoid_idx)[0]\n",
    "            if (ci.size != 0):\n",
    "                medoids[medoid_idx] = data[ci].mean(axis=0)\n",
    "        \n",
    "        loss.append(J(medoids, labels, data))\n",
    "        print('Iteration: {}, loss: {}'.format(it, loss[-1]))\n",
    "        if (abs(loss[-2] - loss[-1]) < tol):\n",
    "            break\n",
    "\n",
    "    return loss[-1], medoids, labels\n"
   ]
  },
  {
   "cell_type": "markdown",
   "metadata": {},
   "source": [
    "# SSE X Number of medoids"
   ]
  },
  {
   "cell_type": "code",
   "execution_count": 93,
   "metadata": {
    "collapsed": true
   },
   "outputs": [],
   "source": [
    "data = X_w2v\n",
    "Ks = np.arange(1,31)\n",
    "tol = 0.5 #minimum change in SSE to continue training\n",
    "max_iterations = 100 #maxium number of iterations\n",
    "\n",
    "data_w2v = {}\n",
    "for K in Ks:\n",
    "    print('K: {}'.format(K))\n",
    "    loss, medoids, labels = kmeansplusplus(K, data)\n",
    "    data_w2v[K] = {\n",
    "        'loss': loss,\n",
    "        'medoids': medoids,\n",
    "        'labels': labels\n",
    "    }"
   ]
  },
  {
   "cell_type": "code",
   "execution_count": 12,
   "metadata": {},
   "outputs": [
    {
     "data": {
      "image/png": "[encoded data removed]",
      "text/plain": [
       "<matplotlib.figure.Figure at 0x1a1a41d780>"
      ]
     },
     "metadata": {},
     "output_type": "display_data"
    }
   ],
   "source": [
    "loss_w2v = [data_w2v[K]['loss'] for K in Ks]\n",
    "plt.plot(np.arange(1, len(loss_w2v) + 1), loss_w2v)\n",
    "plt.title('Loss w2v', fontsize=15)\n",
    "plt.ylabel('SSE', fontsize=15)\n",
    "plt.xlabel('Número de clusters', fontsize=15)\n",
    "plt.show()"
   ]
  },
  {
   "cell_type": "markdown",
   "metadata": {},
   "source": [
    "# Verificando Qualidade dos Clusters para K = 29"
   ]
  },
  {
   "cell_type": "code",
   "execution_count": 13,
   "metadata": {
    "collapsed": true
   },
   "outputs": [],
   "source": [
    "# loss, medoids, labels = kmeansplusplus(30, data)\n",
    "\n",
    "K = 29\n",
    "loss, medoids, labels = data_w2v[K]['loss'], data_w2v[K]['medoids'], data_w2v[K]['labels']"
   ]
  },
  {
   "cell_type": "code",
   "execution_count": 14,
   "metadata": {
    "collapsed": true
   },
   "outputs": [],
   "source": [
    "n_closest_neighbors = 3\n",
    "\n",
    "def get_closest_neighbors(medoid, data, n_closest_neighbors):\n",
    "    distances = [euclidean(medoid, data_point) for data_point in data]\n",
    "    closest_idx = np.argsort(distances)[:n_closest_neighbors]\n",
    "    return closest_idx\n",
    "\n",
    "positions = []\n",
    "for label in [1, 4, 17]:\n",
    "    positions.append(get_closest_neighbors(medoids[label], data, n_closest_neighbors))"
   ]
  },
  {
   "cell_type": "code",
   "execution_count": 15,
   "metadata": {
    "scrolled": false
   },
   "outputs": [
    {
     "name": "stdout",
     "output_type": "stream",
     "text": [
      "0: .@RoscoeTheHorse Not really. But common sense says to avoid anyone who's sick. Virus spreads only when there are symptoms! #EbolaQandA \n",
      "\n",
      "1: 1 in 8 U.S. babies is born pre-term. @LIFE takes a look at how hospitals saved these tiny humans 75 yrs ago \n",
      "\n",
      "2: RT @CNNVideo: Deaf toddler's reaction to hearing his dad's voice for the first time will make your day. @drsanjaygupta reports: \n",
      "\n"
     ]
    }
   ],
   "source": [
    "for ix, i in enumerate(text['headline_text'].loc[positions[0]].values):\n",
    "    print('{}: {} \\n'.format(ix, i))"
   ]
  },
  {
   "cell_type": "code",
   "execution_count": 16,
   "metadata": {},
   "outputs": [
    {
     "name": "stdout",
     "output_type": "stream",
     "text": [
      "0: RT @kellywallacetv: What's the advice when your child wants to stop a physical activity &amp; you know it's good for them to keep doing it? #fi… \n",
      "\n",
      "1: . @jillianmichaels shows us 3 simple moves to workout your chest. These can be done from anywhere in a few minutes: \n",
      "\n",
      "2: RT @drsanjaygupta: letting @diananyad get some rest, and then I sit down with her for 1st post swim intvu. anything you want me to ask? #ex… \n",
      "\n"
     ]
    }
   ],
   "source": [
    "for ix, i in enumerate(text['headline_text'].loc[positions[1]].values):\n",
    "    print('{}: {} \\n'.format(ix, i))"
   ]
  },
  {
   "cell_type": "code",
   "execution_count": 17,
   "metadata": {},
   "outputs": [
    {
     "name": "stdout",
     "output_type": "stream",
     "text": [
      "0: RT @NCADA_STL: @cnnhealth Thanks for the article \"What you need to know about synthetic #drugs\". Great info for #parents &amp; #kids. \n",
      "\n",
      "1: FDA warned docs this week about prescribing too much acetaminophen. 5 things you need to know about this pain killer \n",
      "\n",
      "2: Worried about the new virus sweeping the Midwest? Here's what you need to know to keep your kids (&amp; you) healthy: \n",
      "\n"
     ]
    }
   ],
   "source": [
    "for ix, i in enumerate(text['headline_text'].loc[positions[2]].values):\n",
    "    print('{}: {} \\n'.format(ix, i))"
   ]
  },
  {
   "cell_type": "markdown",
   "metadata": {},
   "source": [
    "# Checking Cluster Quality"
   ]
  },
  {
   "cell_type": "code",
   "execution_count": 18,
   "metadata": {},
   "outputs": [
    {
     "name": "stdout",
     "output_type": "stream",
     "text": [
      "[412, 289, 1635, 7087, 1377, 10353, 7863, 412, 7599, 6438, 3568, 564, 8103, 8535, 6438, 8001, 1800, 2000, 6786, 7852, 551, 1111, 6594, 1045, 1459, 455, 8007, 551, 1663]\n"
     ]
    }
   ],
   "source": [
    "# For every cluster, find datapoint nearest to centroid\n",
    "n_closest_neighbors = 1\n",
    "closest_datapoints = []\n",
    "for medoid in medoids:\n",
    "    closest_datapoints.append(get_closest_neighbors(medoid, data, n_closest_neighbors)[0])\n",
    "print(closest_datapoints)"
   ]
  },
  {
   "cell_type": "code",
   "execution_count": 20,
   "metadata": {},
   "outputs": [
    {
     "name": "stdout",
     "output_type": "stream",
     "text": [
      "[23, 14, 23, 14, 14, 2, 23, 23, 23, 14, 14, 14, 14, 14, 15, 20, 14, 14, 14, 14, 15, 23, 26, 14, 25, 23, 4, 20, 14]\n"
     ]
    }
   ],
   "source": [
    "# For every centroid, find other nearest centroid\n",
    "n_closest_neighbors = 2\n",
    "closest_medoids = []\n",
    "for medoid in medoids:\n",
    "    closest_medoids.append(get_closest_neighbors(medoid, medoids, n_closest_neighbors)[1])\n",
    "print(closest_medoids)"
   ]
  },
  {
   "cell_type": "code",
   "execution_count": 21,
   "metadata": {},
   "outputs": [
    {
     "name": "stdout",
     "output_type": "stream",
     "text": [
      "[-0.00121861 -0.13562212 -0.01691333 -0.04498302 -0.05150622  1.\n",
      "  0.08084083  0.00231184  0.12909847 -0.03105534 -0.03452284  0.08977195\n",
      " -0.02226346  0.05492303 -0.08776375  0.12012651 -0.01703004  0.03412159\n",
      "  0.16361041  0.04712263 -0.00797631  0.11566405  0.46460941 -0.16649668\n",
      "  0.12784392 -0.05981574  0.09709807 -0.13224763 -0.06680008]\n"
     ]
    }
   ],
   "source": [
    "def get_silhouette(datapoint, data_cluster, data_nearest_cluster):\n",
    "    a = np.mean([euclidean(datapoint, data) for data in data_cluster])\n",
    "    b = np.mean([euclidean(datapoint, data) for data in data_nearest_cluster])\n",
    "    return (b - a)/max(a,b)\n",
    "\n",
    "s_values = np.zeros(len(closest_datapoints))\n",
    "for k_idx, closest_datapoint in enumerate(closest_datapoints):\n",
    "    datapoint = data[closest_datapoint]\n",
    "    data_cluster = data[np.where(labels == k_idx)[0]]\n",
    "    data_nearest_cluster = data[np.where(labels == closest_medoids[k_idx])[0]]\n",
    "    s_values[k_idx] = get_silhouette(datapoint, data_cluster, data_nearest_cluster)\n",
    "\n",
    "print(s_values)"
   ]
  },
  {
   "cell_type": "code",
   "execution_count": 22,
   "metadata": {},
   "outputs": [
    {
     "data": {
      "text/plain": [
       "0.05692853613886127"
      ]
     },
     "execution_count": 22,
     "metadata": {},
     "output_type": "execute_result"
    }
   ],
   "source": [
    "np.mean(s_values)"
   ]
  },
  {
   "cell_type": "markdown",
   "metadata": {
    "collapsed": true
   },
   "source": [
    "# PCA"
   ]
  },
  {
   "cell_type": "code",
   "execution_count": 113,
   "metadata": {
    "collapsed": true
   },
   "outputs": [],
   "source": [
    "total_variance = 0.95\n",
    "\n",
    "data_pca = X_w2v - X_w2v.mean(axis=0)\n",
    "\n",
    "sigma = np.cov(data_pca.T)\n",
    "u, s, vh = np.linalg.svd(sigma)\n",
    "\n",
    "def get_list_eigenvalues(sigma, variance):\n",
    "    variance = variance*np.sum(sigma)\n",
    "    cur_variance = 0\n",
    "    n_eigenvalues = 0\n",
    "    for i in sigma:\n",
    "        n_eigenvalues += 1\n",
    "        cur_variance += i\n",
    "        if (cur_variance >= variance):\n",
    "            return n_eigenvalues\n",
    "        \n",
    "n_eigenvalues = get_list_eigenvalues(s, total_variance)\n",
    "reduced_u = u[:, 0:n_eigenvalues]\n",
    "\n",
    "data_pca = np.dot(data_pca, reduced_u)"
   ]
  },
  {
   "cell_type": "code",
   "execution_count": 114,
   "metadata": {},
   "outputs": [
    {
     "data": {
      "text/plain": [
       "(12791, 115)"
      ]
     },
     "execution_count": 114,
     "metadata": {},
     "output_type": "execute_result"
    }
   ],
   "source": [
    "data_pca.shape"
   ]
  },
  {
   "cell_type": "code",
   "execution_count": 116,
   "metadata": {
    "collapsed": true
   },
   "outputs": [],
   "source": [
    "K = 29\n",
    "loss_pca, medoids_pca, labels_pca = kmeansplusplus(K, data_pca)"
   ]
  }
 ],
 "metadata": {
  "kernelspec": {
   "display_name": "Python [default]",
   "language": "python",
   "name": "python3"
  },
  "language_info": {
   "codemirror_mode": {
    "name": "ipython",
    "version": 3
   },
   "file_extension": ".py",
   "mimetype": "text/x-python",
   "name": "python",
   "nbconvert_exporter": "python",
   "pygments_lexer": "ipython3",
   "version": "3.6.3"
  }
 },
 "nbformat": 4,
 "nbformat_minor": 2
}
